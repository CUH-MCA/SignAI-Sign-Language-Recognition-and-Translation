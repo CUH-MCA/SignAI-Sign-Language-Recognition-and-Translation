{
 "cells": [
  {
   "cell_type": "code",
   "execution_count": 2,
   "metadata": {
    "id": "igMyGnjE9hEp"
   },
   "outputs": [],
   "source": [
    "import csv\n",
    "\n",
    "import numpy as np\n",
    "import tensorflow as tf\n",
    "from sklearn.model_selection import train_test_split\n",
    "\n",
    "RANDOM_SEED = 42"
   ]
  },
  {
   "cell_type": "markdown",
   "metadata": {
    "id": "t2HDvhIu9hEr"
   },
   "source": [
    "# Specify each path"
   ]
  },
  {
   "cell_type": "code",
   "execution_count": 3,
   "metadata": {
    "id": "9NvZP2Zn9hEy"
   },
   "outputs": [],
   "source": [
    "dataset = 'model/keypoint_classifier/keypoint.csv'\n",
    "model_save_path = 'model/keypoint_classifier/keypoint_classifier.hdf5'\n",
    "tflite_save_path = 'model/keypoint_classifier/keypoint_classifier.tflite'"
   ]
  },
  {
   "cell_type": "markdown",
   "metadata": {
    "id": "s5oMH7x19hEz"
   },
   "source": [
    "# Set number of classes"
   ]
  },
  {
   "cell_type": "code",
   "execution_count": 4,
   "metadata": {
    "id": "du4kodXL9hEz"
   },
   "outputs": [
    {
     "name": "stdout",
     "output_type": "stream",
     "text": [
      "39\n"
     ]
    }
   ],
   "source": [
    "NUM_CLASSES = 0\n",
    "with open('model/keypoint_classifier/keypoint_classifier_label.csv',encoding='utf-8-sig') as f:\n",
    "    reader = csv.reader(f)\n",
    "    data = list(reader)\n",
    "    NUM_CLASSES = len(data)\n",
    "print(NUM_CLASSES)"
   ]
  },
  {
   "cell_type": "markdown",
   "metadata": {
    "id": "XjnL0uso9hEz"
   },
   "source": [
    "# Dataset reading"
   ]
  },
  {
   "cell_type": "code",
   "execution_count": 5,
   "metadata": {
    "id": "QT5ZqtEz9hE0"
   },
   "outputs": [],
   "source": [
    "X_dataset = np.loadtxt(dataset, delimiter=',', dtype='float32', usecols=list(range(1, (42 * 2) + 1)))"
   ]
  },
  {
   "cell_type": "code",
   "execution_count": 6,
   "metadata": {
    "id": "QmoKFsp49hE0"
   },
   "outputs": [],
   "source": [
    "y_dataset = np.loadtxt(dataset, delimiter=',', dtype='int32', usecols=(0))"
   ]
  },
  {
   "cell_type": "code",
   "execution_count": 7,
   "metadata": {
    "id": "xQU7JTZ_9hE0"
   },
   "outputs": [],
   "source": [
    "X_train, X_test, y_train, y_test = train_test_split(X_dataset, y_dataset, train_size=0.85, random_state=RANDOM_SEED)\n"
   ]
  },
  {
   "cell_type": "markdown",
   "metadata": {
    "id": "mxK_lETT9hE0"
   },
   "source": [
    "\n",
    "# Model building"
   ]
  },
  {
   "cell_type": "code",
   "execution_count": 24,
   "metadata": {
    "id": "vHBmUf1t9hE1"
   },
   "outputs": [],
   "source": [
    "model = tf.keras.models.Sequential([\n",
    "    tf.keras.layers.Input((42 * 2, )),\n",
    "    #tf.keras.layers.Dropout(0.2),\n",
    "    tf.keras.layers.Dense(42, activation='relu'),\n",
    "    #tf.keras.layers.Dropout(0.4),\n",
    "   # tf.keras.layers.Dense(21, activation='relu'),\n",
    "    #tf.keras.layers.Dropout(0.4),\n",
    "    tf.keras.layers.Dense(10, activation='relu'),\n",
    "    #tf.keras.layers.Dense(5, activation='relu'),\n",
    "    #tf.keras.layers.Dense(10, activation='relu'),\n",
    "    tf.keras.layers.Dense(20, activation='relu'),\n",
    "    tf.keras.layers.Dense(NUM_CLASSES, activation='softmax')\n",
    "])"
   ]
  },
  {
   "cell_type": "code",
   "execution_count": 25,
   "metadata": {
    "colab": {
     "base_uri": "https://localhost:8080/"
    },
    "id": "ypqky9tc9hE1",
    "outputId": "5db082bb-30e3-4110-bf63-a1ee777ecd46"
   },
   "outputs": [
    {
     "name": "stdout",
     "output_type": "stream",
     "text": [
      "Model: \"sequential_1\"\n",
      "_________________________________________________________________\n",
      " Layer (type)                Output Shape              Param #   \n",
      "=================================================================\n",
      " dense_7 (Dense)             (None, 42)                3570      \n",
      "                                                                 \n",
      " dense_8 (Dense)             (None, 10)                430       \n",
      "                                                                 \n",
      " dense_9 (Dense)             (None, 20)                220       \n",
      "                                                                 \n",
      " dense_10 (Dense)            (None, 39)                819       \n",
      "                                                                 \n",
      "=================================================================\n",
      "Total params: 5,039\n",
      "Trainable params: 5,039\n",
      "Non-trainable params: 0\n",
      "_________________________________________________________________\n"
     ]
    }
   ],
   "source": [
    "model.summary()"
   ]
  },
  {
   "cell_type": "code",
   "execution_count": 26,
   "metadata": {
    "id": "MbMjOflQ9hE1"
   },
   "outputs": [],
   "source": [
    "cp_callback = tf.keras.callbacks.ModelCheckpoint(model_save_path, verbose=1, save_weights_only=False)\n",
    "es_callback = tf.keras.callbacks.EarlyStopping(patience=20, verbose=1)"
   ]
  },
  {
   "cell_type": "code",
   "execution_count": 27,
   "metadata": {
    "id": "c3Dac0M_9hE2"
   },
   "outputs": [],
   "source": [
    "model.compile(\n",
    "    optimizer='adam',\n",
    "    loss='sparse_categorical_crossentropy',\n",
    "    metrics=['accuracy']\n",
    ")"
   ]
  },
  {
   "cell_type": "markdown",
   "metadata": {
    "id": "7XI0j1Iu9hE2"
   },
   "source": [
    "# Model training"
   ]
  },
  {
   "cell_type": "code",
   "execution_count": 28,
   "metadata": {
    "colab": {
     "base_uri": "https://localhost:8080/"
    },
    "id": "WirBl-JE9hE3",
    "outputId": "71b30ca2-8294-4d9d-8aa2-800d90d399de",
    "scrolled": true
   },
   "outputs": [
    {
     "name": "stdout",
     "output_type": "stream",
     "text": [
      "Epoch 1/1000\n",
      "438/449 [============================>.] - ETA: 0s - loss: 1.6087 - accuracy: 0.5409\n",
      "Epoch 1: saving model to model/keypoint_classifier\\keypoint_classifier.hdf5\n",
      "449/449 [==============================] - 3s 3ms/step - loss: 1.5836 - accuracy: 0.5480 - val_loss: 0.5122 - val_accuracy: 0.8740\n",
      "Epoch 2/1000\n",
      "433/449 [===========================>..] - ETA: 0s - loss: 0.2405 - accuracy: 0.9551\n",
      "Epoch 2: saving model to model/keypoint_classifier\\keypoint_classifier.hdf5\n",
      "449/449 [==============================] - 1s 3ms/step - loss: 0.2360 - accuracy: 0.9562 - val_loss: 0.1071 - val_accuracy: 0.9878\n",
      "Epoch 3/1000\n",
      "439/449 [============================>.] - ETA: 0s - loss: 0.0653 - accuracy: 0.9912\n",
      "Epoch 3: saving model to model/keypoint_classifier\\keypoint_classifier.hdf5\n",
      "449/449 [==============================] - 1s 3ms/step - loss: 0.0648 - accuracy: 0.9912 - val_loss: 0.0560 - val_accuracy: 0.9936\n",
      "Epoch 4/1000\n",
      "445/449 [============================>.] - ETA: 0s - loss: 0.0356 - accuracy: 0.9947\n",
      "Epoch 4: saving model to model/keypoint_classifier\\keypoint_classifier.hdf5\n",
      "449/449 [==============================] - 1s 3ms/step - loss: 0.0354 - accuracy: 0.9948 - val_loss: 0.0417 - val_accuracy: 0.9954\n",
      "Epoch 5/1000\n",
      "439/449 [============================>.] - ETA: 0s - loss: 0.0253 - accuracy: 0.9962\n",
      "Epoch 5: saving model to model/keypoint_classifier\\keypoint_classifier.hdf5\n",
      "449/449 [==============================] - 1s 3ms/step - loss: 0.0251 - accuracy: 0.9963 - val_loss: 0.0353 - val_accuracy: 0.9969\n",
      "Epoch 6/1000\n",
      "433/449 [===========================>..] - ETA: 0s - loss: 0.0189 - accuracy: 0.9971\n",
      "Epoch 6: saving model to model/keypoint_classifier\\keypoint_classifier.hdf5\n",
      "449/449 [==============================] - 1s 3ms/step - loss: 0.0187 - accuracy: 0.9972 - val_loss: 0.0302 - val_accuracy: 0.9964\n",
      "Epoch 7/1000\n",
      "444/449 [============================>.] - ETA: 0s - loss: 0.0149 - accuracy: 0.9978\n",
      "Epoch 7: saving model to model/keypoint_classifier\\keypoint_classifier.hdf5\n",
      "449/449 [==============================] - 1s 3ms/step - loss: 0.0149 - accuracy: 0.9978 - val_loss: 0.0279 - val_accuracy: 0.9973\n",
      "Epoch 8/1000\n",
      "447/449 [============================>.] - ETA: 0s - loss: 0.0124 - accuracy: 0.9982\n",
      "Epoch 8: saving model to model/keypoint_classifier\\keypoint_classifier.hdf5\n",
      "449/449 [==============================] - 1s 3ms/step - loss: 0.0124 - accuracy: 0.9982 - val_loss: 0.0251 - val_accuracy: 0.9974\n",
      "Epoch 9/1000\n",
      "427/449 [===========================>..] - ETA: 0s - loss: 0.0105 - accuracy: 0.9983\n",
      "Epoch 9: saving model to model/keypoint_classifier\\keypoint_classifier.hdf5\n",
      "449/449 [==============================] - 1s 3ms/step - loss: 0.0104 - accuracy: 0.9983 - val_loss: 0.0239 - val_accuracy: 0.9975\n",
      "Epoch 10/1000\n",
      "446/449 [============================>.] - ETA: 0s - loss: 0.0095 - accuracy: 0.9984\n",
      "Epoch 10: saving model to model/keypoint_classifier\\keypoint_classifier.hdf5\n",
      "449/449 [==============================] - 1s 3ms/step - loss: 0.0095 - accuracy: 0.9984 - val_loss: 0.0226 - val_accuracy: 0.9976\n",
      "Epoch 11/1000\n",
      "431/449 [===========================>..] - ETA: 0s - loss: 0.0081 - accuracy: 0.9986\n",
      "Epoch 11: saving model to model/keypoint_classifier\\keypoint_classifier.hdf5\n",
      "449/449 [==============================] - 1s 3ms/step - loss: 0.0080 - accuracy: 0.9986 - val_loss: 0.0240 - val_accuracy: 0.9976\n",
      "Epoch 12/1000\n",
      "446/449 [============================>.] - ETA: 0s - loss: 0.0071 - accuracy: 0.9987\n",
      "Epoch 12: saving model to model/keypoint_classifier\\keypoint_classifier.hdf5\n",
      "449/449 [==============================] - 1s 3ms/step - loss: 0.0071 - accuracy: 0.9987 - val_loss: 0.0214 - val_accuracy: 0.9978\n",
      "Epoch 13/1000\n",
      "431/449 [===========================>..] - ETA: 0s - loss: 0.0065 - accuracy: 0.9988\n",
      "Epoch 13: saving model to model/keypoint_classifier\\keypoint_classifier.hdf5\n",
      "449/449 [==============================] - 1s 3ms/step - loss: 0.0066 - accuracy: 0.9989 - val_loss: 0.0215 - val_accuracy: 0.9977\n",
      "Epoch 14/1000\n",
      "446/449 [============================>.] - ETA: 0s - loss: 0.0059 - accuracy: 0.9988\n",
      "Epoch 14: saving model to model/keypoint_classifier\\keypoint_classifier.hdf5\n",
      "449/449 [==============================] - 1s 3ms/step - loss: 0.0059 - accuracy: 0.9989 - val_loss: 0.0201 - val_accuracy: 0.9982\n",
      "Epoch 15/1000\n",
      "437/449 [============================>.] - ETA: 0s - loss: 0.0057 - accuracy: 0.9987\n",
      "Epoch 15: saving model to model/keypoint_classifier\\keypoint_classifier.hdf5\n",
      "449/449 [==============================] - 1s 3ms/step - loss: 0.0057 - accuracy: 0.9987 - val_loss: 0.0221 - val_accuracy: 0.9979\n",
      "Epoch 16/1000\n",
      "425/449 [===========================>..] - ETA: 0s - loss: 0.0050 - accuracy: 0.9991\n",
      "Epoch 16: saving model to model/keypoint_classifier\\keypoint_classifier.hdf5\n",
      "449/449 [==============================] - 1s 3ms/step - loss: 0.0049 - accuracy: 0.9991 - val_loss: 0.0202 - val_accuracy: 0.9981\n",
      "Epoch 17/1000\n",
      "433/449 [===========================>..] - ETA: 0s - loss: 0.0044 - accuracy: 0.9992\n",
      "Epoch 17: saving model to model/keypoint_classifier\\keypoint_classifier.hdf5\n",
      "449/449 [==============================] - 1s 3ms/step - loss: 0.0044 - accuracy: 0.9992 - val_loss: 0.0213 - val_accuracy: 0.9981\n",
      "Epoch 18/1000\n",
      "431/449 [===========================>..] - ETA: 0s - loss: 0.0045 - accuracy: 0.9989\n",
      "Epoch 18: saving model to model/keypoint_classifier\\keypoint_classifier.hdf5\n",
      "449/449 [==============================] - 1s 3ms/step - loss: 0.0045 - accuracy: 0.9989 - val_loss: 0.0203 - val_accuracy: 0.9981\n",
      "Epoch 19/1000\n",
      "440/449 [============================>.] - ETA: 0s - loss: 0.0039 - accuracy: 0.9992\n",
      "Epoch 19: saving model to model/keypoint_classifier\\keypoint_classifier.hdf5\n",
      "449/449 [==============================] - 1s 3ms/step - loss: 0.0040 - accuracy: 0.9992 - val_loss: 0.0211 - val_accuracy: 0.9982\n",
      "Epoch 20/1000\n",
      "441/449 [============================>.] - ETA: 0s - loss: 0.0035 - accuracy: 0.9993\n",
      "Epoch 20: saving model to model/keypoint_classifier\\keypoint_classifier.hdf5\n",
      "449/449 [==============================] - 1s 3ms/step - loss: 0.0035 - accuracy: 0.9993 - val_loss: 0.0203 - val_accuracy: 0.9984\n",
      "Epoch 21/1000\n",
      "441/449 [============================>.] - ETA: 0s - loss: 0.0034 - accuracy: 0.9992\n",
      "Epoch 21: saving model to model/keypoint_classifier\\keypoint_classifier.hdf5\n",
      "449/449 [==============================] - 1s 3ms/step - loss: 0.0034 - accuracy: 0.9992 - val_loss: 0.0202 - val_accuracy: 0.9985\n",
      "Epoch 22/1000\n",
      "444/449 [============================>.] - ETA: 0s - loss: 0.0030 - accuracy: 0.9992\n",
      "Epoch 22: saving model to model/keypoint_classifier\\keypoint_classifier.hdf5\n",
      "449/449 [==============================] - 1s 3ms/step - loss: 0.0031 - accuracy: 0.9992 - val_loss: 0.0201 - val_accuracy: 0.9988\n",
      "Epoch 23/1000\n",
      "431/449 [===========================>..] - ETA: 0s - loss: 0.0029 - accuracy: 0.9993\n",
      "Epoch 23: saving model to model/keypoint_classifier\\keypoint_classifier.hdf5\n",
      "449/449 [==============================] - 1s 3ms/step - loss: 0.0029 - accuracy: 0.9993 - val_loss: 0.0193 - val_accuracy: 0.9988\n",
      "Epoch 24/1000\n",
      "429/449 [===========================>..] - ETA: 0s - loss: 0.0030 - accuracy: 0.9993\n",
      "Epoch 24: saving model to model/keypoint_classifier\\keypoint_classifier.hdf5\n",
      "449/449 [==============================] - 1s 3ms/step - loss: 0.0029 - accuracy: 0.9993 - val_loss: 0.0203 - val_accuracy: 0.9988\n",
      "Epoch 25/1000\n",
      "428/449 [===========================>..] - ETA: 0s - loss: 0.0026 - accuracy: 0.9994\n",
      "Epoch 25: saving model to model/keypoint_classifier\\keypoint_classifier.hdf5\n",
      "449/449 [==============================] - 1s 3ms/step - loss: 0.0025 - accuracy: 0.9994 - val_loss: 0.0211 - val_accuracy: 0.9984\n",
      "Epoch 26/1000\n",
      "433/449 [===========================>..] - ETA: 0s - loss: 0.0028 - accuracy: 0.9993\n",
      "Epoch 26: saving model to model/keypoint_classifier\\keypoint_classifier.hdf5\n",
      "449/449 [==============================] - 1s 3ms/step - loss: 0.0027 - accuracy: 0.9993 - val_loss: 0.0195 - val_accuracy: 0.9987\n",
      "Epoch 27/1000\n",
      "440/449 [============================>.] - ETA: 0s - loss: 0.0023 - accuracy: 0.9994\n",
      "Epoch 27: saving model to model/keypoint_classifier\\keypoint_classifier.hdf5\n",
      "449/449 [==============================] - 1s 3ms/step - loss: 0.0023 - accuracy: 0.9994 - val_loss: 0.0196 - val_accuracy: 0.9986\n"
     ]
    },
    {
     "name": "stdout",
     "output_type": "stream",
     "text": [
      "Epoch 28/1000\n",
      "448/449 [============================>.] - ETA: 0s - loss: 0.0023 - accuracy: 0.9995\n",
      "Epoch 28: saving model to model/keypoint_classifier\\keypoint_classifier.hdf5\n",
      "449/449 [==============================] - 1s 3ms/step - loss: 0.0023 - accuracy: 0.9995 - val_loss: 0.0205 - val_accuracy: 0.9988\n",
      "Epoch 29/1000\n",
      "447/449 [============================>.] - ETA: 0s - loss: 0.0020 - accuracy: 0.9996\n",
      "Epoch 29: saving model to model/keypoint_classifier\\keypoint_classifier.hdf5\n",
      "449/449 [==============================] - 1s 3ms/step - loss: 0.0020 - accuracy: 0.9996 - val_loss: 0.0206 - val_accuracy: 0.9989\n",
      "Epoch 30/1000\n",
      "433/449 [===========================>..] - ETA: 0s - loss: 0.0020 - accuracy: 0.9995\n",
      "Epoch 30: saving model to model/keypoint_classifier\\keypoint_classifier.hdf5\n",
      "449/449 [==============================] - 1s 3ms/step - loss: 0.0019 - accuracy: 0.9995 - val_loss: 0.0203 - val_accuracy: 0.9985\n",
      "Epoch 31/1000\n",
      "446/449 [============================>.] - ETA: 0s - loss: 0.0024 - accuracy: 0.9993\n",
      "Epoch 31: saving model to model/keypoint_classifier\\keypoint_classifier.hdf5\n",
      "449/449 [==============================] - 1s 3ms/step - loss: 0.0024 - accuracy: 0.9993 - val_loss: 0.0210 - val_accuracy: 0.9985\n",
      "Epoch 32/1000\n",
      "430/449 [===========================>..] - ETA: 0s - loss: 0.0027 - accuracy: 0.9993\n",
      "Epoch 32: saving model to model/keypoint_classifier\\keypoint_classifier.hdf5\n",
      "449/449 [==============================] - 1s 3ms/step - loss: 0.0029 - accuracy: 0.9993 - val_loss: 0.0218 - val_accuracy: 0.9987\n",
      "Epoch 33/1000\n",
      "443/449 [============================>.] - ETA: 0s - loss: 0.0018 - accuracy: 0.9995\n",
      "Epoch 33: saving model to model/keypoint_classifier\\keypoint_classifier.hdf5\n",
      "449/449 [==============================] - 1s 3ms/step - loss: 0.0018 - accuracy: 0.9995 - val_loss: 0.0210 - val_accuracy: 0.9987\n",
      "Epoch 34/1000\n",
      "425/449 [===========================>..] - ETA: 0s - loss: 0.0017 - accuracy: 0.9995\n",
      "Epoch 34: saving model to model/keypoint_classifier\\keypoint_classifier.hdf5\n",
      "449/449 [==============================] - 1s 3ms/step - loss: 0.0019 - accuracy: 0.9995 - val_loss: 0.0217 - val_accuracy: 0.9988\n",
      "Epoch 35/1000\n",
      "432/449 [===========================>..] - ETA: 0s - loss: 0.0020 - accuracy: 0.9994\n",
      "Epoch 35: saving model to model/keypoint_classifier\\keypoint_classifier.hdf5\n",
      "449/449 [==============================] - 1s 3ms/step - loss: 0.0020 - accuracy: 0.9994 - val_loss: 0.0221 - val_accuracy: 0.9987\n",
      "Epoch 36/1000\n",
      "448/449 [============================>.] - ETA: 0s - loss: 0.0021 - accuracy: 0.9995\n",
      "Epoch 36: saving model to model/keypoint_classifier\\keypoint_classifier.hdf5\n",
      "449/449 [==============================] - 1s 3ms/step - loss: 0.0021 - accuracy: 0.9995 - val_loss: 0.0213 - val_accuracy: 0.9988\n",
      "Epoch 37/1000\n",
      "445/449 [============================>.] - ETA: 0s - loss: 0.0018 - accuracy: 0.9995\n",
      "Epoch 37: saving model to model/keypoint_classifier\\keypoint_classifier.hdf5\n",
      "449/449 [==============================] - 1s 3ms/step - loss: 0.0018 - accuracy: 0.9995 - val_loss: 0.0217 - val_accuracy: 0.9988\n",
      "Epoch 38/1000\n",
      "427/449 [===========================>..] - ETA: 0s - loss: 0.0017 - accuracy: 0.9995\n",
      "Epoch 38: saving model to model/keypoint_classifier\\keypoint_classifier.hdf5\n",
      "449/449 [==============================] - 1s 3ms/step - loss: 0.0017 - accuracy: 0.9995 - val_loss: 0.0213 - val_accuracy: 0.9986\n",
      "Epoch 39/1000\n",
      "433/449 [===========================>..] - ETA: 0s - loss: 0.0014 - accuracy: 0.9996\n",
      "Epoch 39: saving model to model/keypoint_classifier\\keypoint_classifier.hdf5\n",
      "449/449 [==============================] - 1s 3ms/step - loss: 0.0015 - accuracy: 0.9996 - val_loss: 0.0214 - val_accuracy: 0.9988\n",
      "Epoch 40/1000\n",
      "428/449 [===========================>..] - ETA: 0s - loss: 0.0017 - accuracy: 0.9996\n",
      "Epoch 40: saving model to model/keypoint_classifier\\keypoint_classifier.hdf5\n",
      "449/449 [==============================] - 1s 3ms/step - loss: 0.0017 - accuracy: 0.9996 - val_loss: 0.0222 - val_accuracy: 0.9988\n",
      "Epoch 41/1000\n",
      "439/449 [============================>.] - ETA: 0s - loss: 0.0013 - accuracy: 0.9996\n",
      "Epoch 41: saving model to model/keypoint_classifier\\keypoint_classifier.hdf5\n",
      "449/449 [==============================] - 1s 3ms/step - loss: 0.0013 - accuracy: 0.9996 - val_loss: 0.0214 - val_accuracy: 0.9987\n",
      "Epoch 42/1000\n",
      "428/449 [===========================>..] - ETA: 0s - loss: 0.0016 - accuracy: 0.9995\n",
      "Epoch 42: saving model to model/keypoint_classifier\\keypoint_classifier.hdf5\n",
      "449/449 [==============================] - 1s 3ms/step - loss: 0.0015 - accuracy: 0.9995 - val_loss: 0.0215 - val_accuracy: 0.9988\n",
      "Epoch 43/1000\n",
      "428/449 [===========================>..] - ETA: 0s - loss: 0.0014 - accuracy: 0.9996\n",
      "Epoch 43: saving model to model/keypoint_classifier\\keypoint_classifier.hdf5\n",
      "449/449 [==============================] - 1s 3ms/step - loss: 0.0014 - accuracy: 0.9996 - val_loss: 0.0219 - val_accuracy: 0.9987\n",
      "Epoch 43: early stopping\n"
     ]
    },
    {
     "data": {
      "text/plain": [
       "<keras.callbacks.History at 0x1a2972336d0>"
      ]
     },
     "execution_count": 28,
     "metadata": {},
     "output_type": "execute_result"
    }
   ],
   "source": [
    "model.fit(\n",
    "    X_train,\n",
    "    y_train,\n",
    "    batch_size=128,\n",
    "    epochs=1000,\n",
    "    validation_data=(X_test, y_test),\n",
    "    callbacks=[cp_callback, es_callback],\n",
    ")"
   ]
  },
  {
   "cell_type": "code",
   "execution_count": 29,
   "metadata": {
    "colab": {
     "base_uri": "https://localhost:8080/"
    },
    "id": "pxvb2Y299hE3",
    "outputId": "59eb3185-2e37-4b9e-bc9d-ab1b8ac29b7f"
   },
   "outputs": [
    {
     "name": "stdout",
     "output_type": "stream",
     "text": [
      "80/80 [==============================] - 0s 2ms/step - loss: 0.0219 - accuracy: 0.9987\n"
     ]
    }
   ],
   "source": [
    "# Model evaluation\n",
    "val_loss, val_acc = model.evaluate(X_test, y_test, batch_size=128)"
   ]
  },
  {
   "cell_type": "code",
   "execution_count": 30,
   "metadata": {
    "id": "RBkmDeUW9hE4"
   },
   "outputs": [],
   "source": [
    "# Loading the saved model\n",
    "model = tf.keras.models.load_model(model_save_path)"
   ]
  },
  {
   "cell_type": "code",
   "execution_count": 31,
   "metadata": {
    "colab": {
     "base_uri": "https://localhost:8080/"
    },
    "id": "tFz9Tb0I9hE4",
    "outputId": "1c3b3528-54ae-4ee2-ab04-77429211cbef"
   },
   "outputs": [
    {
     "name": "stdout",
     "output_type": "stream",
     "text": [
      "1/1 [==============================] - 0s 109ms/step\n",
      "[6.4155156e-17 2.2320956e-17 1.8188206e-37 0.0000000e+00 0.0000000e+00\n",
      " 2.7038173e-23 2.3938725e-20 2.4437047e-28 2.5409429e-29 0.0000000e+00\n",
      " 3.1357045e-31 3.0624723e-37 1.0493045e-23 5.0026716e-29 2.4655198e-11\n",
      " 1.7023959e-09 4.2953147e-30 4.8782222e-27 1.5271127e-09 4.2769244e-21\n",
      " 2.4822766e-25 7.4924252e-08 0.0000000e+00 0.0000000e+00 8.1539264e-10\n",
      " 9.9999774e-01 0.0000000e+00 0.0000000e+00 2.0972236e-06 3.2229609e-16\n",
      " 1.4821080e-10 3.1139973e-16 5.3231052e-13 5.7229230e-19 2.3524249e-09\n",
      " 3.3863729e-36 5.4208325e-20 1.2021658e-09 1.8937351e-23]\n",
      "25\n",
      "0.99999774\n"
     ]
    }
   ],
   "source": [
    "# Inference test\n",
    "predict_result = model.predict(np.array([X_test[0]]))\n",
    "print(np.squeeze(predict_result))\n",
    "print(np.argmax(np.squeeze(predict_result)))\n",
    "x = np.argmax(np.squeeze(predict_result))\n",
    "print(np.squeeze(predict_result)[x])"
   ]
  },
  {
   "cell_type": "markdown",
   "metadata": {
    "id": "S3U4yNWx9hE4"
   },
   "source": [
    "# Confusion matrix"
   ]
  },
  {
   "cell_type": "code",
   "execution_count": 32,
   "metadata": {
    "colab": {
     "base_uri": "https://localhost:8080/",
     "height": 582
    },
    "id": "AP1V6SCk9hE5",
    "outputId": "08e41a80-7a4a-4619-8125-ecc371368d19"
   },
   "outputs": [
    {
     "name": "stdout",
     "output_type": "stream",
     "text": [
      "317/317 [==============================] - 0s 1ms/step\n"
     ]
    },
    {
     "data": {
      "image/png": "[encoded data removed]",
      "text/plain": [
       "<Figure size 700x600 with 2 Axes>"
      ]
     },
     "metadata": {},
     "output_type": "display_data"
    },
    {
     "name": "stdout",
     "output_type": "stream",
     "text": [
      "Classification Report\n",
      "              precision    recall  f1-score   support\n",
      "\n",
      "           1       0.00      0.00      0.00         0\n",
      "           2       0.98      1.00      0.99        81\n",
      "           3       1.00      1.00      1.00        93\n",
      "           4       1.00      1.00      1.00       105\n",
      "           5       1.00      1.00      1.00        88\n",
      "           6       1.00      1.00      1.00        82\n",
      "           7       1.00      1.00      1.00        84\n",
      "           8       1.00      1.00      1.00       116\n",
      "           9       1.00      1.00      1.00        90\n",
      "          10       1.00      1.00      1.00        96\n",
      "          11       1.00      1.00      1.00       156\n",
      "          12       1.00      1.00      1.00       331\n",
      "          13       1.00      1.00      1.00       371\n",
      "          14       0.98      1.00      0.99        54\n",
      "          15       1.00      1.00      1.00       289\n",
      "          16       1.00      1.00      1.00       280\n",
      "          17       1.00      1.00      1.00       273\n",
      "          18       1.00      1.00      1.00       517\n",
      "          19       1.00      1.00      1.00       457\n",
      "          20       1.00      1.00      1.00       614\n",
      "          21       0.99      1.00      1.00       380\n",
      "          22       1.00      0.99      0.99       134\n",
      "          23       1.00      1.00      1.00       132\n",
      "          24       1.00      1.00      1.00       943\n",
      "          25       1.00      1.00      1.00       853\n",
      "          26       1.00      1.00      1.00       155\n",
      "          27       1.00      1.00      1.00       259\n",
      "          28       0.99      1.00      0.99       292\n",
      "          29       1.00      0.99      1.00       149\n",
      "          30       1.00      1.00      1.00       335\n",
      "          31       1.00      1.00      1.00       417\n",
      "          32       1.00      1.00      1.00       431\n",
      "          33       0.99      0.99      0.99       134\n",
      "          34       1.00      0.99      0.99       141\n",
      "          35       1.00      1.00      1.00       615\n",
      "          36       1.00      1.00      1.00       291\n",
      "          37       1.00      1.00      1.00       146\n",
      "          38       1.00      1.00      1.00       155\n",
      "\n",
      "    accuracy                           1.00     10139\n",
      "   macro avg       0.97      0.97      0.97     10139\n",
      "weighted avg       1.00      1.00      1.00     10139\n",
      "\n"
     ]
    },
    {
     "name": "stderr",
     "output_type": "stream",
     "text": [
      "C:\\Users\\kaka1\\anaconda3\\envs\\project\\lib\\site-packages\\sklearn\\metrics\\_classification.py:1344: UndefinedMetricWarning: Recall and F-score are ill-defined and being set to 0.0 in labels with no true samples. Use `zero_division` parameter to control this behavior.\n",
      "  _warn_prf(average, modifier, msg_start, len(result))\n",
      "C:\\Users\\kaka1\\anaconda3\\envs\\project\\lib\\site-packages\\sklearn\\metrics\\_classification.py:1344: UndefinedMetricWarning: Recall and F-score are ill-defined and being set to 0.0 in labels with no true samples. Use `zero_division` parameter to control this behavior.\n",
      "  _warn_prf(average, modifier, msg_start, len(result))\n",
      "C:\\Users\\kaka1\\anaconda3\\envs\\project\\lib\\site-packages\\sklearn\\metrics\\_classification.py:1344: UndefinedMetricWarning: Recall and F-score are ill-defined and being set to 0.0 in labels with no true samples. Use `zero_division` parameter to control this behavior.\n",
      "  _warn_prf(average, modifier, msg_start, len(result))\n"
     ]
    }
   ],
   "source": [
    "import pandas as pd\n",
    "import seaborn as sns\n",
    "import matplotlib.pyplot as plt\n",
    "from sklearn.metrics import confusion_matrix, classification_report\n",
    "\n",
    "def print_confusion_matrix(y_true, y_pred, report=True):\n",
    "    labels = sorted(list(set(y_true)))\n",
    "    cmx_data = confusion_matrix(y_true, y_pred, labels=labels)\n",
    "    df_cmx = pd.DataFrame(cmx_data, index=labels, columns=labels)\n",
    "    fig, ax = plt.subplots(figsize=(7, 6))\n",
    "    sns.heatmap(df_cmx, annot=True, fmt='g' ,square=False)\n",
    "    ax.set_ylim(len(set(y_true)), 0)\n",
    "    plt.show()\n",
    "    \n",
    "    if report:\n",
    "        print('Classification Report')\n",
    "        print(classification_report(y_test, y_pred))\n",
    "\n",
    "Y_pred = model.predict(X_test)\n",
    "y_pred = np.argmax(Y_pred, axis=1)\n",
    "\n",
    "print_confusion_matrix(y_test, y_pred)"
   ]
  },
  {
   "cell_type": "markdown",
   "metadata": {
    "id": "FNP6aqzc9hE5"
   },
   "source": [
    "# Convert to model for Tensorflow-Lite"
   ]
  },
  {
   "cell_type": "code",
   "execution_count": 33,
   "metadata": {
    "id": "ODjnYyld9hE6"
   },
   "outputs": [],
   "source": [
    "# Save as a model dedicated to inference\n",
    "model.save(model_save_path, include_optimizer=False)"
   ]
  },
  {
   "cell_type": "code",
   "execution_count": 34,
   "metadata": {
    "colab": {
     "base_uri": "https://localhost:8080/"
    },
    "id": "zRfuK8Y59hE6",
    "outputId": "a4ca585c-b5d5-4244-8291-8674063209bb"
   },
   "outputs": [
    {
     "name": "stderr",
     "output_type": "stream",
     "text": [
      "WARNING:absl:Found untraced functions such as _update_step_xla while saving (showing 1 of 1). These functions will not be directly callable after loading.\n"
     ]
    },
    {
     "name": "stdout",
     "output_type": "stream",
     "text": [
      "INFO:tensorflow:Assets written to: C:\\Users\\kaka1\\AppData\\Local\\Temp\\tmp6jn_dzqo\\assets\n"
     ]
    },
    {
     "name": "stderr",
     "output_type": "stream",
     "text": [
      "INFO:tensorflow:Assets written to: C:\\Users\\kaka1\\AppData\\Local\\Temp\\tmp6jn_dzqo\\assets\n"
     ]
    },
    {
     "data": {
      "text/plain": [
       "12208"
      ]
     },
     "execution_count": 34,
     "metadata": {},
     "output_type": "execute_result"
    }
   ],
   "source": [
    "# Transform model (quantization)\n",
    "\n",
    "converter = tf.lite.TFLiteConverter.from_keras_model(model)\n",
    "converter.optimizations = [tf.lite.Optimize.DEFAULT]\n",
    "tflite_quantized_model = converter.convert()\n",
    "\n",
    "open(tflite_save_path, 'wb').write(tflite_quantized_model)"
   ]
  },
  {
   "cell_type": "markdown",
   "metadata": {
    "id": "CHBPBXdx9hE6"
   },
   "source": [
    "# Inference test"
   ]
  },
  {
   "cell_type": "code",
   "execution_count": 35,
   "metadata": {
    "id": "mGAzLocO9hE7"
   },
   "outputs": [],
   "source": [
    "interpreter = tf.lite.Interpreter(model_path=tflite_save_path)\n",
    "interpreter.allocate_tensors()"
   ]
  },
  {
   "cell_type": "code",
   "execution_count": 36,
   "metadata": {
    "id": "oQuDK8YS9hE7"
   },
   "outputs": [],
   "source": [
    "# Get I / O tensor\n",
    "input_details = interpreter.get_input_details()\n",
    "output_details = interpreter.get_output_details()"
   ]
  },
  {
   "cell_type": "code",
   "execution_count": 37,
   "metadata": {
    "id": "2_ixAf_l9hE7"
   },
   "outputs": [],
   "source": [
    "interpreter.set_tensor(input_details[0]['index'], np.array([X_test[0]]))"
   ]
  },
  {
   "cell_type": "code",
   "execution_count": 38,
   "metadata": {
    "colab": {
     "base_uri": "https://localhost:8080/"
    },
    "id": "s4FoAnuc9hE7",
    "outputId": "91f18257-8d8b-4ef3-c558-e9b5f94fabbf",
    "scrolled": true
   },
   "outputs": [
    {
     "name": "stdout",
     "output_type": "stream",
     "text": [
      "CPU times: total: 0 ns\n",
      "Wall time: 0 ns\n"
     ]
    }
   ],
   "source": [
    "%%time\n",
    "# Inference implementation\n",
    "interpreter.invoke()\n",
    "tflite_results = interpreter.get_tensor(output_details[0]['index'])"
   ]
  },
  {
   "cell_type": "code",
   "execution_count": 39,
   "metadata": {
    "colab": {
     "base_uri": "https://localhost:8080/"
    },
    "id": "vONjp19J9hE8",
    "outputId": "77205e24-fd00-42c4-f7b6-e06e527c2cba"
   },
   "outputs": [
    {
     "name": "stdout",
     "output_type": "stream",
     "text": [
      "[5.6200788e-17 1.8901254e-17 1.3219351e-37 0.0000000e+00 0.0000000e+00\n",
      " 2.6613504e-23 2.1515175e-20 2.1287398e-28 2.0061601e-29 0.0000000e+00\n",
      " 2.6692091e-31 2.2947536e-37 9.0856526e-24 4.4239125e-29 2.3789222e-11\n",
      " 1.5637744e-09 4.0671578e-30 3.8845429e-27 1.4990817e-09 3.3365824e-21\n",
      " 2.2982368e-25 7.2902331e-08 0.0000000e+00 0.0000000e+00 6.9741984e-10\n",
      " 9.9999785e-01 0.0000000e+00 0.0000000e+00 2.0663422e-06 2.9744144e-16\n",
      " 1.4438427e-10 2.9702645e-16 5.2031491e-13 5.3288190e-19 2.2378341e-09\n",
      " 2.8583210e-36 4.8425861e-20 1.2454142e-09 1.7485951e-23]\n",
      "25\n"
     ]
    }
   ],
   "source": [
    "print(np.squeeze(tflite_results))\n",
    "print(np.argmax(np.squeeze(tflite_results)))"
   ]
  },
  {
   "cell_type": "code",
   "execution_count": null,
   "metadata": {},
   "outputs": [],
   "source": []
  },
  {
   "cell_type": "code",
   "execution_count": null,
   "metadata": {},
   "outputs": [],
   "source": []
  },
  {
   "cell_type": "code",
   "execution_count": null,
   "metadata": {},
   "outputs": [],
   "source": []
  }
 ],
 "metadata": {
  "accelerator": "GPU",
  "colab": {
   "collapsed_sections": [],
   "name": "keypoint_classification_EN.ipynb",
   "provenance": [],
   "toc_visible": true
  },
  "kernelspec": {
   "display_name": "project",
   "language": "python",
   "name": "project"
  },
  "language_info": {
   "codemirror_mode": {
    "name": "ipython",
    "version": 3
   },
   "file_extension": ".py",
   "mimetype": "text/x-python",
   "name": "python",
   "nbconvert_exporter": "python",
   "pygments_lexer": "ipython3",
   "version": "3.9.16"
  }
 },
 "nbformat": 4,
 "nbformat_minor": 1
}
