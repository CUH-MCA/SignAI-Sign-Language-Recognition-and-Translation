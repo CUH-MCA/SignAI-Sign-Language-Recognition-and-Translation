{
  "nbformat": 4,
  "nbformat_minor": 0,
  "metadata": {
    "colab": {
      "provenance": [],
      "include_colab_link": true
    },
    "kernelspec": {
      "name": "python3",
      "display_name": "Python 3"
    },
    "language_info": {
      "name": "python"
    }
  },
  "cells": [
    {
      "cell_type": "markdown",
      "metadata": {
        "id": "view-in-github",
        "colab_type": "text"
      },
      "source": [
        "<a href=\"https://colab.research.google.com/github/CUH-MCA/signlanguageML/blob/main/signlanguageproject.ipynb\" target=\"_parent\"><img src=\"https://colab.research.google.com/assets/colab-badge.svg\" alt=\"Open In Colab\"/></a>"
      ]
    },
    {
      "cell_type": "markdown",
      "source": [
        "<h1> Sign Language Recognition Project </h1>"
      ],
      "metadata": {
        "id": "tQ1SSp0JkBtz"
      }
    },
    {
      "cell_type": "markdown",
      "source": [
        "<h3>Importing Libraries"
      ],
      "metadata": {
        "id": "n2DhU2SzkZOj"
      }
    },
    {
      "cell_type": "code",
      "source": [
        "import numpy as np\n",
        "import pandas as pd\n",
        "import matplotlib.pyplot as plt\n",
        "import tensorflow as tf\n",
        "import keras\n",
        "import scipy "
      ],
      "metadata": {
        "id": "Si-yneSDkfjc"
      },
      "execution_count": 1,
      "outputs": []
    },
    {
      "cell_type": "markdown",
      "source": [
        "### Rest of The Code ☁ -->"
      ],
      "metadata": {
        "id": "NLAObhg7lFJo"
      }
    },
    {
      "cell_type": "code",
      "source": [],
      "metadata": {
        "id": "TwAxMK4ulI5P"
      },
      "execution_count": null,
      "outputs": []
    }
  ]
}