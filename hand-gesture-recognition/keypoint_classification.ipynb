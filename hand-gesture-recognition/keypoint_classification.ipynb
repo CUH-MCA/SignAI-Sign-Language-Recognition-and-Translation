{
 "cells": [
  {
   "cell_type": "code",
   "execution_count": 558,
   "metadata": {
    "id": "igMyGnjE9hEp"
   },
   "outputs": [],
   "source": [
    "import csv\n",
    "\n",
    "import numpy as np\n",
    "import tensorflow as tf\n",
    "from sklearn.model_selection import train_test_split\n",
    "\n",
    "RANDOM_SEED = 42"
   ]
  },
  {
   "cell_type": "markdown",
   "metadata": {
    "id": "t2HDvhIu9hEr"
   },
   "source": [
    "# Specify each path"
   ]
  },
  {
   "cell_type": "code",
   "execution_count": 559,
   "metadata": {
    "id": "9NvZP2Zn9hEy"
   },
   "outputs": [],
   "source": [
    "dataset = 'model/keypoint_classifier/keypoint.csv'\n",
    "model_save_path = 'model/keypoint_classifier/keypoint_classifier.hdf5'\n",
    "tflite_save_path = 'model/keypoint_classifier/keypoint_classifier.tflite'"
   ]
  },
  {
   "cell_type": "markdown",
   "metadata": {
    "id": "s5oMH7x19hEz"
   },
   "source": [
    "# Set number of classes"
   ]
  },
  {
   "cell_type": "code",
   "execution_count": 560,
   "metadata": {
    "id": "du4kodXL9hEz"
   },
   "outputs": [
    {
     "name": "stdout",
     "output_type": "stream",
     "text": [
      "39\n"
     ]
    }
   ],
   "source": [
    "NUM_CLASSES = 0\n",
    "with open('model/keypoint_classifier/keypoint_classifier_label.csv',encoding='utf-8-sig') as f:\n",
    "    reader = csv.reader(f)\n",
    "    data = list(reader)\n",
    "    NUM_CLASSES = len(data)\n",
    "print(NUM_CLASSES)"
   ]
  },
  {
   "cell_type": "markdown",
   "metadata": {
    "id": "XjnL0uso9hEz"
   },
   "source": [
    "# Dataset reading"
   ]
  },
  {
   "cell_type": "code",
   "execution_count": 561,
   "metadata": {
    "id": "QT5ZqtEz9hE0"
   },
   "outputs": [],
   "source": [
    "X_dataset = np.loadtxt(dataset, delimiter=',', dtype='float32', usecols=list(range(1, (42 * 2) + 1)))"
   ]
  },
  {
   "cell_type": "code",
   "execution_count": 562,
   "metadata": {
    "id": "QmoKFsp49hE0"
   },
   "outputs": [],
   "source": [
    "y_dataset = np.loadtxt(dataset, delimiter=',', dtype='int32', usecols=(0))"
   ]
  },
  {
   "cell_type": "code",
   "execution_count": 563,
   "metadata": {
    "id": "xQU7JTZ_9hE0"
   },
   "outputs": [],
   "source": [
    "X_train, X_test, y_train, y_test = train_test_split(X_dataset, y_dataset, train_size=0.85, random_state=RANDOM_SEED)\n"
   ]
  },
  {
   "cell_type": "markdown",
   "metadata": {
    "id": "mxK_lETT9hE0"
   },
   "source": [
    "\n",
    "# Model building"
   ]
  },
  {
   "cell_type": "code",
   "execution_count": 564,
   "metadata": {
    "id": "vHBmUf1t9hE1"
   },
   "outputs": [],
   "source": [
    "model = tf.keras.models.Sequential([\n",
    "    tf.keras.layers.Input((42 * 2, )),\n",
    "    #tf.keras.layers.Dropout(0.2),\n",
    "    tf.keras.layers.Dense(42, activation='relu'),\n",
    "    #tf.keras.layers.Dropout(0.4),\n",
    "    tf.keras.layers.Dense(21, activation='relu'),\n",
    "    #tf.keras.layers.Dropout(0.4),\n",
    "    tf.keras.layers.Dense(10, activation='relu'),\n",
    "    tf.keras.layers.Dense(5, activation='relu'),\n",
    "    tf.keras.layers.Dense(10, activation='relu'),\n",
    "    tf.keras.layers.Dense(20, activation='relu'),\n",
    "    tf.keras.layers.Dense(NUM_CLASSES, activation='softmax')\n",
    "])"
   ]
  },
  {
   "cell_type": "code",
   "execution_count": 565,
   "metadata": {
    "colab": {
     "base_uri": "https://localhost:8080/"
    },
    "id": "ypqky9tc9hE1",
    "outputId": "5db082bb-30e3-4110-bf63-a1ee777ecd46"
   },
   "outputs": [
    {
     "name": "stdout",
     "output_type": "stream",
     "text": [
      "Model: \"sequential_35\"\n",
      "_________________________________________________________________\n",
      " Layer (type)                Output Shape              Param #   \n",
      "=================================================================\n",
      " dense_172 (Dense)           (None, 42)                3570      \n",
      "                                                                 \n",
      " dense_173 (Dense)           (None, 21)                903       \n",
      "                                                                 \n",
      " dense_174 (Dense)           (None, 10)                220       \n",
      "                                                                 \n",
      " dense_175 (Dense)           (None, 5)                 55        \n",
      "                                                                 \n",
      " dense_176 (Dense)           (None, 10)                60        \n",
      "                                                                 \n",
      " dense_177 (Dense)           (None, 20)                220       \n",
      "                                                                 \n",
      " dense_178 (Dense)           (None, 39)                819       \n",
      "                                                                 \n",
      "=================================================================\n",
      "Total params: 5,847\n",
      "Trainable params: 5,847\n",
      "Non-trainable params: 0\n",
      "_________________________________________________________________\n"
     ]
    }
   ],
   "source": [
    "model.summary()"
   ]
  },
  {
   "cell_type": "code",
   "execution_count": 566,
   "metadata": {
    "id": "MbMjOflQ9hE1"
   },
   "outputs": [],
   "source": [
    "cp_callback = tf.keras.callbacks.ModelCheckpoint(model_save_path, verbose=1, save_weights_only=False)\n",
    "es_callback = tf.keras.callbacks.EarlyStopping(patience=20, verbose=1)"
   ]
  },
  {
   "cell_type": "code",
   "execution_count": 567,
   "metadata": {
    "id": "c3Dac0M_9hE2"
   },
   "outputs": [],
   "source": [
    "model.compile(\n",
    "    optimizer='adam',\n",
    "    loss='sparse_categorical_crossentropy',\n",
    "    metrics=['accuracy']\n",
    ")"
   ]
  },
  {
   "cell_type": "markdown",
   "metadata": {
    "id": "7XI0j1Iu9hE2"
   },
   "source": [
    "# Model training"
   ]
  },
  {
   "cell_type": "code",
   "execution_count": 568,
   "metadata": {
    "colab": {
     "base_uri": "https://localhost:8080/"
    },
    "id": "WirBl-JE9hE3",
    "outputId": "71b30ca2-8294-4d9d-8aa2-800d90d399de",
    "scrolled": true
   },
   "outputs": [
    {
     "name": "stdout",
     "output_type": "stream",
     "text": [
      "Epoch 1/1000\n",
      "390/390 [==============================] - ETA: 0s - loss: 1.9774 - accuracy: 0.3906\n",
      "Epoch 1: saving model to model/keypoint_classifier\\keypoint_classifier.hdf5\n",
      "390/390 [==============================] - 2s 2ms/step - loss: 1.9774 - accuracy: 0.3906 - val_loss: 0.8241 - val_accuracy: 0.7664\n",
      "Epoch 2/1000\n",
      "342/390 [=========================>....] - ETA: 0s - loss: 0.4526 - accuracy: 0.8641\n",
      "Epoch 2: saving model to model/keypoint_classifier\\keypoint_classifier.hdf5\n",
      "390/390 [==============================] - 0s 1ms/step - loss: 0.4327 - accuracy: 0.8716 - val_loss: 0.2846 - val_accuracy: 0.9245\n",
      "Epoch 3/1000\n",
      "365/390 [===========================>..] - ETA: 0s - loss: 0.2040 - accuracy: 0.9508\n",
      "Epoch 3: saving model to model/keypoint_classifier\\keypoint_classifier.hdf5\n",
      "390/390 [==============================] - 0s 1ms/step - loss: 0.2019 - accuracy: 0.9514 - val_loss: 0.1800 - val_accuracy: 0.9607\n",
      "Epoch 4/1000\n",
      "360/390 [==========================>...] - ETA: 0s - loss: 0.1326 - accuracy: 0.9705\n",
      "Epoch 4: saving model to model/keypoint_classifier\\keypoint_classifier.hdf5\n",
      "390/390 [==============================] - 0s 1ms/step - loss: 0.1310 - accuracy: 0.9708 - val_loss: 0.1285 - val_accuracy: 0.9738\n",
      "Epoch 5/1000\n",
      "359/390 [==========================>...] - ETA: 0s - loss: 0.0974 - accuracy: 0.9786\n",
      "Epoch 5: saving model to model/keypoint_classifier\\keypoint_classifier.hdf5\n",
      "390/390 [==============================] - 0s 1ms/step - loss: 0.0952 - accuracy: 0.9789 - val_loss: 0.1059 - val_accuracy: 0.9773\n",
      "Epoch 6/1000\n",
      "377/390 [============================>.] - ETA: 0s - loss: 0.0759 - accuracy: 0.9834\n",
      "Epoch 6: saving model to model/keypoint_classifier\\keypoint_classifier.hdf5\n",
      "390/390 [==============================] - 0s 1ms/step - loss: 0.0750 - accuracy: 0.9835 - val_loss: 0.0864 - val_accuracy: 0.9845\n",
      "Epoch 7/1000\n",
      "368/390 [===========================>..] - ETA: 0s - loss: 0.0590 - accuracy: 0.9870\n",
      "Epoch 7: saving model to model/keypoint_classifier\\keypoint_classifier.hdf5\n",
      "390/390 [==============================] - 0s 1ms/step - loss: 0.0595 - accuracy: 0.9870 - val_loss: 0.0832 - val_accuracy: 0.9864\n",
      "Epoch 8/1000\n",
      "371/390 [===========================>..] - ETA: 0s - loss: 0.0501 - accuracy: 0.9898\n",
      "Epoch 8: saving model to model/keypoint_classifier\\keypoint_classifier.hdf5\n",
      "390/390 [==============================] - 0s 1ms/step - loss: 0.0501 - accuracy: 0.9900 - val_loss: 0.0637 - val_accuracy: 0.9885\n",
      "Epoch 9/1000\n",
      "359/390 [==========================>...] - ETA: 0s - loss: 0.0446 - accuracy: 0.9914\n",
      "Epoch 9: saving model to model/keypoint_classifier\\keypoint_classifier.hdf5\n",
      "390/390 [==============================] - 0s 1ms/step - loss: 0.0442 - accuracy: 0.9915 - val_loss: 0.0555 - val_accuracy: 0.9914\n",
      "Epoch 10/1000\n",
      "366/390 [===========================>..] - ETA: 0s - loss: 0.0392 - accuracy: 0.9925\n",
      "Epoch 10: saving model to model/keypoint_classifier\\keypoint_classifier.hdf5\n",
      "390/390 [==============================] - 0s 1ms/step - loss: 0.0385 - accuracy: 0.9926 - val_loss: 0.0552 - val_accuracy: 0.9922\n",
      "Epoch 11/1000\n",
      "383/390 [============================>.] - ETA: 0s - loss: 0.0339 - accuracy: 0.9936\n",
      "Epoch 11: saving model to model/keypoint_classifier\\keypoint_classifier.hdf5\n",
      "390/390 [==============================] - 0s 1ms/step - loss: 0.0341 - accuracy: 0.9936 - val_loss: 0.0480 - val_accuracy: 0.9922\n",
      "Epoch 12/1000\n",
      "347/390 [=========================>....] - ETA: 0s - loss: 0.0325 - accuracy: 0.9937\n",
      "Epoch 12: saving model to model/keypoint_classifier\\keypoint_classifier.hdf5\n",
      "390/390 [==============================] - 0s 1ms/step - loss: 0.0320 - accuracy: 0.9939 - val_loss: 0.0435 - val_accuracy: 0.9936\n",
      "Epoch 13/1000\n",
      "358/390 [==========================>...] - ETA: 0s - loss: 0.0287 - accuracy: 0.9942\n",
      "Epoch 13: saving model to model/keypoint_classifier\\keypoint_classifier.hdf5\n",
      "390/390 [==============================] - 0s 1ms/step - loss: 0.0287 - accuracy: 0.9942 - val_loss: 0.0647 - val_accuracy: 0.9840\n",
      "Epoch 14/1000\n",
      "369/390 [===========================>..] - ETA: 0s - loss: 0.0250 - accuracy: 0.9957\n",
      "Epoch 14: saving model to model/keypoint_classifier\\keypoint_classifier.hdf5\n",
      "390/390 [==============================] - 0s 1ms/step - loss: 0.0249 - accuracy: 0.9957 - val_loss: 0.0434 - val_accuracy: 0.9945\n",
      "Epoch 15/1000\n",
      "383/390 [============================>.] - ETA: 0s - loss: 0.0227 - accuracy: 0.9961\n",
      "Epoch 15: saving model to model/keypoint_classifier\\keypoint_classifier.hdf5\n",
      "390/390 [==============================] - 0s 1ms/step - loss: 0.0228 - accuracy: 0.9961 - val_loss: 0.0360 - val_accuracy: 0.9953\n",
      "Epoch 16/1000\n",
      "370/390 [===========================>..] - ETA: 0s - loss: 0.0365 - accuracy: 0.9917\n",
      "Epoch 16: saving model to model/keypoint_classifier\\keypoint_classifier.hdf5\n",
      "390/390 [==============================] - 0s 1ms/step - loss: 0.0357 - accuracy: 0.9920 - val_loss: 0.0358 - val_accuracy: 0.9955\n",
      "Epoch 17/1000\n",
      "369/390 [===========================>..] - ETA: 0s - loss: 0.0168 - accuracy: 0.9972\n",
      "Epoch 17: saving model to model/keypoint_classifier\\keypoint_classifier.hdf5\n",
      "390/390 [==============================] - 0s 1ms/step - loss: 0.0184 - accuracy: 0.9971 - val_loss: 0.0345 - val_accuracy: 0.9955\n",
      "Epoch 18/1000\n",
      "365/390 [===========================>..] - ETA: 0s - loss: 0.0176 - accuracy: 0.9971\n",
      "Epoch 18: saving model to model/keypoint_classifier\\keypoint_classifier.hdf5\n",
      "390/390 [==============================] - 0s 1ms/step - loss: 0.0178 - accuracy: 0.9971 - val_loss: 0.0313 - val_accuracy: 0.9965\n",
      "Epoch 19/1000\n",
      "363/390 [==========================>...] - ETA: 0s - loss: 0.0176 - accuracy: 0.9966\n",
      "Epoch 19: saving model to model/keypoint_classifier\\keypoint_classifier.hdf5\n",
      "390/390 [==============================] - 0s 1ms/step - loss: 0.0185 - accuracy: 0.9962 - val_loss: 0.0344 - val_accuracy: 0.9957\n",
      "Epoch 20/1000\n",
      "377/390 [============================>.] - ETA: 0s - loss: 0.0161 - accuracy: 0.9969\n",
      "Epoch 20: saving model to model/keypoint_classifier\\keypoint_classifier.hdf5\n",
      "390/390 [==============================] - 0s 1ms/step - loss: 0.0162 - accuracy: 0.9969 - val_loss: 0.0298 - val_accuracy: 0.9966\n",
      "Epoch 21/1000\n",
      "339/390 [=========================>....] - ETA: 0s - loss: 0.0142 - accuracy: 0.9974\n",
      "Epoch 21: saving model to model/keypoint_classifier\\keypoint_classifier.hdf5\n",
      "390/390 [==============================] - 0s 1ms/step - loss: 0.0142 - accuracy: 0.9974 - val_loss: 0.0312 - val_accuracy: 0.9955\n",
      "Epoch 22/1000\n",
      "348/390 [=========================>....] - ETA: 0s - loss: 0.0156 - accuracy: 0.9967\n",
      "Epoch 22: saving model to model/keypoint_classifier\\keypoint_classifier.hdf5\n",
      "390/390 [==============================] - 0s 1ms/step - loss: 0.0146 - accuracy: 0.9969 - val_loss: 0.0259 - val_accuracy: 0.9968\n",
      "Epoch 23/1000\n",
      "364/390 [===========================>..] - ETA: 0s - loss: 0.0128 - accuracy: 0.9977\n",
      "Epoch 23: saving model to model/keypoint_classifier\\keypoint_classifier.hdf5\n",
      "390/390 [==============================] - 0s 1ms/step - loss: 0.0127 - accuracy: 0.9978 - val_loss: 0.0277 - val_accuracy: 0.9967\n",
      "Epoch 24/1000\n",
      "358/390 [==========================>...] - ETA: 0s - loss: 0.0158 - accuracy: 0.9965\n",
      "Epoch 24: saving model to model/keypoint_classifier\\keypoint_classifier.hdf5\n",
      "390/390 [==============================] - 0s 1ms/step - loss: 0.0160 - accuracy: 0.9966 - val_loss: 0.0314 - val_accuracy: 0.9958\n",
      "Epoch 25/1000\n",
      "363/390 [==========================>...] - ETA: 0s - loss: 0.0152 - accuracy: 0.9968\n",
      "Epoch 25: saving model to model/keypoint_classifier\\keypoint_classifier.hdf5\n",
      "390/390 [==============================] - 0s 1ms/step - loss: 0.0145 - accuracy: 0.9969 - val_loss: 0.0274 - val_accuracy: 0.9968\n",
      "Epoch 26/1000\n",
      "367/390 [===========================>..] - ETA: 0s - loss: 0.0130 - accuracy: 0.9974\n",
      "Epoch 26: saving model to model/keypoint_classifier\\keypoint_classifier.hdf5\n",
      "390/390 [==============================] - 0s 1ms/step - loss: 0.0132 - accuracy: 0.9974 - val_loss: 0.0297 - val_accuracy: 0.9959\n",
      "Epoch 27/1000\n",
      "357/390 [==========================>...] - ETA: 0s - loss: 0.0112 - accuracy: 0.9975\n",
      "Epoch 27: saving model to model/keypoint_classifier\\keypoint_classifier.hdf5\n",
      "390/390 [==============================] - 0s 1ms/step - loss: 0.0117 - accuracy: 0.9974 - val_loss: 0.0251 - val_accuracy: 0.9975\n"
     ]
    },
    {
     "name": "stdout",
     "output_type": "stream",
     "text": [
      "Epoch 28/1000\n",
      "379/390 [============================>.] - ETA: 0s - loss: 0.0103 - accuracy: 0.9978\n",
      "Epoch 28: saving model to model/keypoint_classifier\\keypoint_classifier.hdf5\n",
      "390/390 [==============================] - 0s 1ms/step - loss: 0.0103 - accuracy: 0.9978 - val_loss: 0.0306 - val_accuracy: 0.9968\n",
      "Epoch 29/1000\n",
      "328/390 [========================>.....] - ETA: 0s - loss: 0.0141 - accuracy: 0.9967\n",
      "Epoch 29: saving model to model/keypoint_classifier\\keypoint_classifier.hdf5\n",
      "390/390 [==============================] - 0s 1ms/step - loss: 0.0133 - accuracy: 0.9969 - val_loss: 0.0224 - val_accuracy: 0.9975\n",
      "Epoch 30/1000\n",
      "378/390 [============================>.] - ETA: 0s - loss: 0.0100 - accuracy: 0.9977\n",
      "Epoch 30: saving model to model/keypoint_classifier\\keypoint_classifier.hdf5\n",
      "390/390 [==============================] - 0s 1ms/step - loss: 0.0098 - accuracy: 0.9978 - val_loss: 0.0214 - val_accuracy: 0.9978\n",
      "Epoch 31/1000\n",
      "376/390 [===========================>..] - ETA: 0s - loss: 0.0110 - accuracy: 0.9973\n",
      "Epoch 31: saving model to model/keypoint_classifier\\keypoint_classifier.hdf5\n",
      "390/390 [==============================] - 0s 1ms/step - loss: 0.0108 - accuracy: 0.9973 - val_loss: 0.0281 - val_accuracy: 0.9967\n",
      "Epoch 32/1000\n",
      "375/390 [===========================>..] - ETA: 0s - loss: 0.0091 - accuracy: 0.9977\n",
      "Epoch 32: saving model to model/keypoint_classifier\\keypoint_classifier.hdf5\n",
      "390/390 [==============================] - 0s 1ms/step - loss: 0.0092 - accuracy: 0.9977 - val_loss: 0.0264 - val_accuracy: 0.9960\n",
      "Epoch 33/1000\n",
      "388/390 [============================>.] - ETA: 0s - loss: 0.0138 - accuracy: 0.9967\n",
      "Epoch 33: saving model to model/keypoint_classifier\\keypoint_classifier.hdf5\n",
      "390/390 [==============================] - 0s 1ms/step - loss: 0.0138 - accuracy: 0.9967 - val_loss: 0.0267 - val_accuracy: 0.9973\n",
      "Epoch 34/1000\n",
      "373/390 [===========================>..] - ETA: 0s - loss: 0.0082 - accuracy: 0.9979\n",
      "Epoch 34: saving model to model/keypoint_classifier\\keypoint_classifier.hdf5\n",
      "390/390 [==============================] - 0s 1ms/step - loss: 0.0085 - accuracy: 0.9978 - val_loss: 0.0228 - val_accuracy: 0.9981\n",
      "Epoch 35/1000\n",
      "354/390 [==========================>...] - ETA: 0s - loss: 0.0079 - accuracy: 0.9982\n",
      "Epoch 35: saving model to model/keypoint_classifier\\keypoint_classifier.hdf5\n",
      "390/390 [==============================] - 0s 1ms/step - loss: 0.0083 - accuracy: 0.9980 - val_loss: 0.0211 - val_accuracy: 0.9976\n",
      "Epoch 36/1000\n",
      "371/390 [===========================>..] - ETA: 0s - loss: 0.0075 - accuracy: 0.9981\n",
      "Epoch 36: saving model to model/keypoint_classifier\\keypoint_classifier.hdf5\n",
      "390/390 [==============================] - 0s 1ms/step - loss: 0.0075 - accuracy: 0.9981 - val_loss: 0.0244 - val_accuracy: 0.9973\n",
      "Epoch 37/1000\n",
      "372/390 [===========================>..] - ETA: 0s - loss: 0.0101 - accuracy: 0.9974\n",
      "Epoch 37: saving model to model/keypoint_classifier\\keypoint_classifier.hdf5\n",
      "390/390 [==============================] - 0s 1ms/step - loss: 0.0101 - accuracy: 0.9974 - val_loss: 0.0260 - val_accuracy: 0.9966\n",
      "Epoch 38/1000\n",
      "333/390 [========================>.....] - ETA: 0s - loss: 0.0083 - accuracy: 0.9980\n",
      "Epoch 38: saving model to model/keypoint_classifier\\keypoint_classifier.hdf5\n",
      "390/390 [==============================] - 0s 1ms/step - loss: 0.0079 - accuracy: 0.9981 - val_loss: 0.0226 - val_accuracy: 0.9972\n",
      "Epoch 39/1000\n",
      "375/390 [===========================>..] - ETA: 0s - loss: 0.0097 - accuracy: 0.9975\n",
      "Epoch 39: saving model to model/keypoint_classifier\\keypoint_classifier.hdf5\n",
      "390/390 [==============================] - 0s 1ms/step - loss: 0.0099 - accuracy: 0.9975 - val_loss: 0.0368 - val_accuracy: 0.9914\n",
      "Epoch 40/1000\n",
      "368/390 [===========================>..] - ETA: 0s - loss: 0.0077 - accuracy: 0.9980\n",
      "Epoch 40: saving model to model/keypoint_classifier\\keypoint_classifier.hdf5\n",
      "390/390 [==============================] - 0s 1ms/step - loss: 0.0077 - accuracy: 0.9980 - val_loss: 0.0214 - val_accuracy: 0.9974\n",
      "Epoch 41/1000\n",
      "368/390 [===========================>..] - ETA: 0s - loss: 0.0053 - accuracy: 0.9986\n",
      "Epoch 41: saving model to model/keypoint_classifier\\keypoint_classifier.hdf5\n",
      "390/390 [==============================] - 0s 1ms/step - loss: 0.0053 - accuracy: 0.9986 - val_loss: 0.0217 - val_accuracy: 0.9974\n",
      "Epoch 42/1000\n",
      "389/390 [============================>.] - ETA: 0s - loss: 0.0126 - accuracy: 0.9966\n",
      "Epoch 42: saving model to model/keypoint_classifier\\keypoint_classifier.hdf5\n",
      "390/390 [==============================] - 0s 1ms/step - loss: 0.0126 - accuracy: 0.9966 - val_loss: 0.0257 - val_accuracy: 0.9966\n",
      "Epoch 43/1000\n",
      "381/390 [============================>.] - ETA: 0s - loss: 0.0060 - accuracy: 0.9983\n",
      "Epoch 43: saving model to model/keypoint_classifier\\keypoint_classifier.hdf5\n",
      "390/390 [==============================] - 0s 1ms/step - loss: 0.0060 - accuracy: 0.9983 - val_loss: 0.0204 - val_accuracy: 0.9978\n",
      "Epoch 44/1000\n",
      "376/390 [===========================>..] - ETA: 0s - loss: 0.0091 - accuracy: 0.9972\n",
      "Epoch 44: saving model to model/keypoint_classifier\\keypoint_classifier.hdf5\n",
      "390/390 [==============================] - 0s 1ms/step - loss: 0.0088 - accuracy: 0.9973 - val_loss: 0.0220 - val_accuracy: 0.9975\n",
      "Epoch 45/1000\n",
      "370/390 [===========================>..] - ETA: 0s - loss: 0.0045 - accuracy: 0.9988\n",
      "Epoch 45: saving model to model/keypoint_classifier\\keypoint_classifier.hdf5\n",
      "390/390 [==============================] - 0s 1ms/step - loss: 0.0047 - accuracy: 0.9987 - val_loss: 0.0735 - val_accuracy: 0.9865\n",
      "Epoch 46/1000\n",
      "343/390 [=========================>....] - ETA: 0s - loss: 0.0092 - accuracy: 0.9974\n",
      "Epoch 46: saving model to model/keypoint_classifier\\keypoint_classifier.hdf5\n",
      "390/390 [==============================] - 0s 1ms/step - loss: 0.0094 - accuracy: 0.9973 - val_loss: 0.0259 - val_accuracy: 0.9961\n",
      "Epoch 47/1000\n",
      "328/390 [========================>.....] - ETA: 0s - loss: 0.0099 - accuracy: 0.9972\n",
      "Epoch 47: saving model to model/keypoint_classifier\\keypoint_classifier.hdf5\n",
      "390/390 [==============================] - 0s 1ms/step - loss: 0.0092 - accuracy: 0.9974 - val_loss: 0.0205 - val_accuracy: 0.9976\n",
      "Epoch 48/1000\n",
      "371/390 [===========================>..] - ETA: 0s - loss: 0.0048 - accuracy: 0.9988\n",
      "Epoch 48: saving model to model/keypoint_classifier\\keypoint_classifier.hdf5\n",
      "390/390 [==============================] - 0s 1ms/step - loss: 0.0046 - accuracy: 0.9989 - val_loss: 0.0216 - val_accuracy: 0.9978\n",
      "Epoch 49/1000\n",
      "371/390 [===========================>..] - ETA: 0s - loss: 0.0092 - accuracy: 0.9974\n",
      "Epoch 49: saving model to model/keypoint_classifier\\keypoint_classifier.hdf5\n",
      "390/390 [==============================] - 0s 1ms/step - loss: 0.0091 - accuracy: 0.9975 - val_loss: 0.0234 - val_accuracy: 0.9972\n",
      "Epoch 50/1000\n",
      "363/390 [==========================>...] - ETA: 0s - loss: 0.0087 - accuracy: 0.9976\n",
      "Epoch 50: saving model to model/keypoint_classifier\\keypoint_classifier.hdf5\n",
      "390/390 [==============================] - 0s 1ms/step - loss: 0.0085 - accuracy: 0.9976 - val_loss: 0.0231 - val_accuracy: 0.9973\n",
      "Epoch 51/1000\n",
      "386/390 [============================>.] - ETA: 0s - loss: 0.0039 - accuracy: 0.9989\n",
      "Epoch 51: saving model to model/keypoint_classifier\\keypoint_classifier.hdf5\n",
      "390/390 [==============================] - 0s 1ms/step - loss: 0.0039 - accuracy: 0.9989 - val_loss: 0.0197 - val_accuracy: 0.9980\n",
      "Epoch 52/1000\n",
      "379/390 [============================>.] - ETA: 0s - loss: 0.0052 - accuracy: 0.9982\n",
      "Epoch 52: saving model to model/keypoint_classifier\\keypoint_classifier.hdf5\n",
      "390/390 [==============================] - 0s 1ms/step - loss: 0.0055 - accuracy: 0.9982 - val_loss: 0.0301 - val_accuracy: 0.9955\n",
      "Epoch 53/1000\n",
      "374/390 [===========================>..] - ETA: 0s - loss: 0.0077 - accuracy: 0.9976\n",
      "Epoch 53: saving model to model/keypoint_classifier\\keypoint_classifier.hdf5\n",
      "390/390 [==============================] - 0s 1ms/step - loss: 0.0076 - accuracy: 0.9977 - val_loss: 0.0237 - val_accuracy: 0.9974\n",
      "Epoch 54/1000\n",
      "373/390 [===========================>..] - ETA: 0s - loss: 0.0066 - accuracy: 0.9981\n",
      "Epoch 54: saving model to model/keypoint_classifier\\keypoint_classifier.hdf5\n",
      "390/390 [==============================] - 0s 1ms/step - loss: 0.0068 - accuracy: 0.9981 - val_loss: 0.0252 - val_accuracy: 0.9975\n"
     ]
    },
    {
     "name": "stdout",
     "output_type": "stream",
     "text": [
      "Epoch 55/1000\n",
      "377/390 [============================>.] - ETA: 0s - loss: 0.0043 - accuracy: 0.9986\n",
      "Epoch 55: saving model to model/keypoint_classifier\\keypoint_classifier.hdf5\n",
      "390/390 [==============================] - 0s 1ms/step - loss: 0.0045 - accuracy: 0.9985 - val_loss: 0.0230 - val_accuracy: 0.9968\n",
      "Epoch 56/1000\n",
      "387/390 [============================>.] - ETA: 0s - loss: 0.0057 - accuracy: 0.9982\n",
      "Epoch 56: saving model to model/keypoint_classifier\\keypoint_classifier.hdf5\n",
      "390/390 [==============================] - 0s 1ms/step - loss: 0.0057 - accuracy: 0.9983 - val_loss: 0.0253 - val_accuracy: 0.9969\n",
      "Epoch 57/1000\n",
      "366/390 [===========================>..] - ETA: 0s - loss: 0.0064 - accuracy: 0.9982\n",
      "Epoch 57: saving model to model/keypoint_classifier\\keypoint_classifier.hdf5\n",
      "390/390 [==============================] - 0s 1ms/step - loss: 0.0070 - accuracy: 0.9981 - val_loss: 0.0273 - val_accuracy: 0.9966\n",
      "Epoch 58/1000\n",
      "353/390 [==========================>...] - ETA: 0s - loss: 0.0070 - accuracy: 0.9979\n",
      "Epoch 58: saving model to model/keypoint_classifier\\keypoint_classifier.hdf5\n",
      "390/390 [==============================] - 0s 1ms/step - loss: 0.0071 - accuracy: 0.9979 - val_loss: 0.0229 - val_accuracy: 0.9976\n",
      "Epoch 59/1000\n",
      "372/390 [===========================>..] - ETA: 0s - loss: 0.0042 - accuracy: 0.9987\n",
      "Epoch 59: saving model to model/keypoint_classifier\\keypoint_classifier.hdf5\n",
      "390/390 [==============================] - 0s 1ms/step - loss: 0.0042 - accuracy: 0.9987 - val_loss: 0.0231 - val_accuracy: 0.9975\n",
      "Epoch 60/1000\n",
      "371/390 [===========================>..] - ETA: 0s - loss: 0.0027 - accuracy: 0.9991\n",
      "Epoch 60: saving model to model/keypoint_classifier\\keypoint_classifier.hdf5\n",
      "390/390 [==============================] - 0s 1ms/step - loss: 0.0054 - accuracy: 0.9986 - val_loss: 0.0289 - val_accuracy: 0.9961\n",
      "Epoch 61/1000\n",
      "376/390 [===========================>..] - ETA: 0s - loss: 0.0061 - accuracy: 0.9980\n",
      "Epoch 61: saving model to model/keypoint_classifier\\keypoint_classifier.hdf5\n",
      "390/390 [==============================] - 0s 1ms/step - loss: 0.0060 - accuracy: 0.9981 - val_loss: 0.0209 - val_accuracy: 0.9976\n",
      "Epoch 62/1000\n",
      "376/390 [===========================>..] - ETA: 0s - loss: 0.0046 - accuracy: 0.9989\n",
      "Epoch 62: saving model to model/keypoint_classifier\\keypoint_classifier.hdf5\n",
      "390/390 [==============================] - 0s 1ms/step - loss: 0.0044 - accuracy: 0.9989 - val_loss: 0.0242 - val_accuracy: 0.9966\n",
      "Epoch 63/1000\n",
      "360/390 [==========================>...] - ETA: 0s - loss: 0.0049 - accuracy: 0.9985\n",
      "Epoch 63: saving model to model/keypoint_classifier\\keypoint_classifier.hdf5\n",
      "390/390 [==============================] - 0s 1ms/step - loss: 0.0050 - accuracy: 0.9985 - val_loss: 0.0238 - val_accuracy: 0.9972\n",
      "Epoch 64/1000\n",
      "377/390 [============================>.] - ETA: 0s - loss: 0.0034 - accuracy: 0.9989\n",
      "Epoch 64: saving model to model/keypoint_classifier\\keypoint_classifier.hdf5\n",
      "390/390 [==============================] - 0s 1ms/step - loss: 0.0034 - accuracy: 0.9989 - val_loss: 0.0190 - val_accuracy: 0.9980\n",
      "Epoch 65/1000\n",
      "331/390 [========================>.....] - ETA: 0s - loss: 0.0067 - accuracy: 0.9980\n",
      "Epoch 65: saving model to model/keypoint_classifier\\keypoint_classifier.hdf5\n",
      "390/390 [==============================] - 0s 1ms/step - loss: 0.0063 - accuracy: 0.9981 - val_loss: 0.0212 - val_accuracy: 0.9982\n",
      "Epoch 66/1000\n",
      "374/390 [===========================>..] - ETA: 0s - loss: 0.0069 - accuracy: 0.9980\n",
      "Epoch 66: saving model to model/keypoint_classifier\\keypoint_classifier.hdf5\n",
      "390/390 [==============================] - 0s 1ms/step - loss: 0.0069 - accuracy: 0.9980 - val_loss: 0.0200 - val_accuracy: 0.9981\n",
      "Epoch 67/1000\n",
      "377/390 [============================>.] - ETA: 0s - loss: 0.0090 - accuracy: 0.9974\n",
      "Epoch 67: saving model to model/keypoint_classifier\\keypoint_classifier.hdf5\n",
      "390/390 [==============================] - 0s 1ms/step - loss: 0.0088 - accuracy: 0.9975 - val_loss: 0.0211 - val_accuracy: 0.9981\n",
      "Epoch 68/1000\n",
      "360/390 [==========================>...] - ETA: 0s - loss: 0.0031 - accuracy: 0.9991\n",
      "Epoch 68: saving model to model/keypoint_classifier\\keypoint_classifier.hdf5\n",
      "390/390 [==============================] - 0s 1ms/step - loss: 0.0032 - accuracy: 0.9991 - val_loss: 0.0198 - val_accuracy: 0.9983\n",
      "Epoch 69/1000\n",
      "330/390 [========================>.....] - ETA: 0s - loss: 0.0063 - accuracy: 0.9981\n",
      "Epoch 69: saving model to model/keypoint_classifier\\keypoint_classifier.hdf5\n",
      "390/390 [==============================] - 0s 1ms/step - loss: 0.0059 - accuracy: 0.9983 - val_loss: 0.0211 - val_accuracy: 0.9981\n",
      "Epoch 70/1000\n",
      "375/390 [===========================>..] - ETA: 0s - loss: 0.0034 - accuracy: 0.9988\n",
      "Epoch 70: saving model to model/keypoint_classifier\\keypoint_classifier.hdf5\n",
      "390/390 [==============================] - 0s 1ms/step - loss: 0.0034 - accuracy: 0.9988 - val_loss: 0.0210 - val_accuracy: 0.9984\n",
      "Epoch 71/1000\n",
      "353/390 [==========================>...] - ETA: 0s - loss: 0.0045 - accuracy: 0.9986\n",
      "Epoch 71: saving model to model/keypoint_classifier\\keypoint_classifier.hdf5\n",
      "390/390 [==============================] - 0s 1ms/step - loss: 0.0043 - accuracy: 0.9987 - val_loss: 0.0217 - val_accuracy: 0.9981\n",
      "Epoch 72/1000\n",
      "358/390 [==========================>...] - ETA: 0s - loss: 0.0035 - accuracy: 0.9989\n",
      "Epoch 72: saving model to model/keypoint_classifier\\keypoint_classifier.hdf5\n",
      "390/390 [==============================] - 0s 1ms/step - loss: 0.0035 - accuracy: 0.9989 - val_loss: 0.0202 - val_accuracy: 0.9976\n",
      "Epoch 73/1000\n",
      "370/390 [===========================>..] - ETA: 0s - loss: 0.0035 - accuracy: 0.9990\n",
      "Epoch 73: saving model to model/keypoint_classifier\\keypoint_classifier.hdf5\n",
      "390/390 [==============================] - 0s 1ms/step - loss: 0.0034 - accuracy: 0.9990 - val_loss: 0.0215 - val_accuracy: 0.9982\n",
      "Epoch 74/1000\n",
      "331/390 [========================>.....] - ETA: 0s - loss: 0.0040 - accuracy: 0.9989\n",
      "Epoch 74: saving model to model/keypoint_classifier\\keypoint_classifier.hdf5\n",
      "390/390 [==============================] - 0s 1ms/step - loss: 0.0039 - accuracy: 0.9988 - val_loss: 0.0219 - val_accuracy: 0.9983\n",
      "Epoch 75/1000\n",
      "371/390 [===========================>..] - ETA: 0s - loss: 0.0084 - accuracy: 0.9977\n",
      "Epoch 75: saving model to model/keypoint_classifier\\keypoint_classifier.hdf5\n",
      "390/390 [==============================] - 0s 1ms/step - loss: 0.0083 - accuracy: 0.9977 - val_loss: 0.0237 - val_accuracy: 0.9981\n",
      "Epoch 76/1000\n",
      "373/390 [===========================>..] - ETA: 0s - loss: 0.0059 - accuracy: 0.9983\n",
      "Epoch 76: saving model to model/keypoint_classifier\\keypoint_classifier.hdf5\n",
      "390/390 [==============================] - 0s 1ms/step - loss: 0.0058 - accuracy: 0.9984 - val_loss: 0.0217 - val_accuracy: 0.9977\n",
      "Epoch 77/1000\n",
      "372/390 [===========================>..] - ETA: 0s - loss: 0.0034 - accuracy: 0.9992\n",
      "Epoch 77: saving model to model/keypoint_classifier\\keypoint_classifier.hdf5\n",
      "390/390 [==============================] - 0s 1ms/step - loss: 0.0035 - accuracy: 0.9991 - val_loss: 0.0203 - val_accuracy: 0.9981\n",
      "Epoch 78/1000\n",
      "367/390 [===========================>..] - ETA: 0s - loss: 0.0057 - accuracy: 0.9984\n",
      "Epoch 78: saving model to model/keypoint_classifier\\keypoint_classifier.hdf5\n",
      "390/390 [==============================] - 0s 1ms/step - loss: 0.0054 - accuracy: 0.9985 - val_loss: 0.0225 - val_accuracy: 0.9983\n",
      "Epoch 79/1000\n",
      "382/390 [============================>.] - ETA: 0s - loss: 0.0033 - accuracy: 0.9990\n",
      "Epoch 79: saving model to model/keypoint_classifier\\keypoint_classifier.hdf5\n",
      "390/390 [==============================] - 0s 1ms/step - loss: 0.0032 - accuracy: 0.9990 - val_loss: 0.0229 - val_accuracy: 0.9982\n",
      "Epoch 80/1000\n",
      "345/390 [=========================>....] - ETA: 0s - loss: 0.0037 - accuracy: 0.9988\n",
      "Epoch 80: saving model to model/keypoint_classifier\\keypoint_classifier.hdf5\n",
      "390/390 [==============================] - 0s 1ms/step - loss: 0.0037 - accuracy: 0.9988 - val_loss: 0.0280 - val_accuracy: 0.9962\n",
      "Epoch 81/1000\n",
      "370/390 [===========================>..] - ETA: 0s - loss: 0.0027 - accuracy: 0.9992\n",
      "Epoch 81: saving model to model/keypoint_classifier\\keypoint_classifier.hdf5\n",
      "390/390 [==============================] - 0s 1ms/step - loss: 0.0026 - accuracy: 0.9992 - val_loss: 0.0246 - val_accuracy: 0.9965\n"
     ]
    },
    {
     "name": "stdout",
     "output_type": "stream",
     "text": [
      "Epoch 82/1000\n",
      "376/390 [===========================>..] - ETA: 0s - loss: 0.0024 - accuracy: 0.9994\n",
      "Epoch 82: saving model to model/keypoint_classifier\\keypoint_classifier.hdf5\n",
      "390/390 [==============================] - 0s 1ms/step - loss: 0.0023 - accuracy: 0.9994 - val_loss: 0.0181 - val_accuracy: 0.9985\n",
      "Epoch 83/1000\n",
      "389/390 [============================>.] - ETA: 0s - loss: 0.0094 - accuracy: 0.9975\n",
      "Epoch 83: saving model to model/keypoint_classifier\\keypoint_classifier.hdf5\n",
      "390/390 [==============================] - 0s 1ms/step - loss: 0.0094 - accuracy: 0.9975 - val_loss: 0.0231 - val_accuracy: 0.9976\n",
      "Epoch 84/1000\n",
      "374/390 [===========================>..] - ETA: 0s - loss: 0.0030 - accuracy: 0.9992\n",
      "Epoch 84: saving model to model/keypoint_classifier\\keypoint_classifier.hdf5\n",
      "390/390 [==============================] - 0s 1ms/step - loss: 0.0030 - accuracy: 0.9992 - val_loss: 0.0187 - val_accuracy: 0.9985\n",
      "Epoch 85/1000\n",
      "369/390 [===========================>..] - ETA: 0s - loss: 0.0064 - accuracy: 0.9981\n",
      "Epoch 85: saving model to model/keypoint_classifier\\keypoint_classifier.hdf5\n",
      "390/390 [==============================] - 0s 1ms/step - loss: 0.0062 - accuracy: 0.9982 - val_loss: 0.0195 - val_accuracy: 0.9983\n",
      "Epoch 86/1000\n",
      "368/390 [===========================>..] - ETA: 0s - loss: 0.0132 - accuracy: 0.9972\n",
      "Epoch 86: saving model to model/keypoint_classifier\\keypoint_classifier.hdf5\n",
      "390/390 [==============================] - 0s 1ms/step - loss: 0.0126 - accuracy: 0.9973 - val_loss: 0.0203 - val_accuracy: 0.9980\n",
      "Epoch 87/1000\n",
      "378/390 [============================>.] - ETA: 0s - loss: 0.0018 - accuracy: 0.9995\n",
      "Epoch 87: saving model to model/keypoint_classifier\\keypoint_classifier.hdf5\n",
      "390/390 [==============================] - 0s 1ms/step - loss: 0.0017 - accuracy: 0.9995 - val_loss: 0.0203 - val_accuracy: 0.9981\n",
      "Epoch 88/1000\n",
      "387/390 [============================>.] - ETA: 0s - loss: 0.0015 - accuracy: 0.9996\n",
      "Epoch 88: saving model to model/keypoint_classifier\\keypoint_classifier.hdf5\n",
      "390/390 [==============================] - 0s 1ms/step - loss: 0.0015 - accuracy: 0.9996 - val_loss: 0.0183 - val_accuracy: 0.9983\n",
      "Epoch 89/1000\n",
      "359/390 [==========================>...] - ETA: 0s - loss: 0.0016 - accuracy: 0.9995\n",
      "Epoch 89: saving model to model/keypoint_classifier\\keypoint_classifier.hdf5\n",
      "390/390 [==============================] - 0s 1ms/step - loss: 0.0017 - accuracy: 0.9995 - val_loss: 0.0199 - val_accuracy: 0.9984\n",
      "Epoch 90/1000\n",
      "357/390 [==========================>...] - ETA: 0s - loss: 0.0020 - accuracy: 0.9995\n",
      "Epoch 90: saving model to model/keypoint_classifier\\keypoint_classifier.hdf5\n",
      "390/390 [==============================] - 0s 1ms/step - loss: 0.0023 - accuracy: 0.9994 - val_loss: 0.0269 - val_accuracy: 0.9953\n",
      "Epoch 91/1000\n",
      "360/390 [==========================>...] - ETA: 0s - loss: 0.0039 - accuracy: 0.9987\n",
      "Epoch 91: saving model to model/keypoint_classifier\\keypoint_classifier.hdf5\n",
      "390/390 [==============================] - 0s 1ms/step - loss: 0.0039 - accuracy: 0.9987 - val_loss: 0.0225 - val_accuracy: 0.9983\n",
      "Epoch 92/1000\n",
      "386/390 [============================>.] - ETA: 0s - loss: 0.0058 - accuracy: 0.9986\n",
      "Epoch 92: saving model to model/keypoint_classifier\\keypoint_classifier.hdf5\n",
      "390/390 [==============================] - 0s 1ms/step - loss: 0.0057 - accuracy: 0.9986 - val_loss: 0.0215 - val_accuracy: 0.9982\n",
      "Epoch 93/1000\n",
      "375/390 [===========================>..] - ETA: 0s - loss: 0.0022 - accuracy: 0.9994\n",
      "Epoch 93: saving model to model/keypoint_classifier\\keypoint_classifier.hdf5\n",
      "390/390 [==============================] - 0s 1ms/step - loss: 0.0022 - accuracy: 0.9994 - val_loss: 0.0202 - val_accuracy: 0.9985\n",
      "Epoch 94/1000\n",
      "363/390 [==========================>...] - ETA: 0s - loss: 0.0055 - accuracy: 0.9983\n",
      "Epoch 94: saving model to model/keypoint_classifier\\keypoint_classifier.hdf5\n",
      "390/390 [==============================] - 0s 1ms/step - loss: 0.0053 - accuracy: 0.9984 - val_loss: 0.0186 - val_accuracy: 0.9983\n",
      "Epoch 95/1000\n",
      "365/390 [===========================>..] - ETA: 0s - loss: 0.0065 - accuracy: 0.9981\n",
      "Epoch 95: saving model to model/keypoint_classifier\\keypoint_classifier.hdf5\n",
      "390/390 [==============================] - 0s 1ms/step - loss: 0.0063 - accuracy: 0.9981 - val_loss: 0.0249 - val_accuracy: 0.9976\n",
      "Epoch 96/1000\n",
      "372/390 [===========================>..] - ETA: 0s - loss: 0.0032 - accuracy: 0.9989\n",
      "Epoch 96: saving model to model/keypoint_classifier\\keypoint_classifier.hdf5\n",
      "390/390 [==============================] - 0s 1ms/step - loss: 0.0031 - accuracy: 0.9990 - val_loss: 0.0185 - val_accuracy: 0.9984\n",
      "Epoch 97/1000\n",
      "385/390 [============================>.] - ETA: 0s - loss: 0.0027 - accuracy: 0.9992\n",
      "Epoch 97: saving model to model/keypoint_classifier\\keypoint_classifier.hdf5\n",
      "390/390 [==============================] - 0s 1ms/step - loss: 0.0027 - accuracy: 0.9993 - val_loss: 0.0197 - val_accuracy: 0.9981\n",
      "Epoch 98/1000\n",
      "370/390 [===========================>..] - ETA: 0s - loss: 0.0026 - accuracy: 0.9993\n",
      "Epoch 98: saving model to model/keypoint_classifier\\keypoint_classifier.hdf5\n",
      "390/390 [==============================] - 0s 1ms/step - loss: 0.0026 - accuracy: 0.9993 - val_loss: 0.0203 - val_accuracy: 0.9977\n",
      "Epoch 99/1000\n",
      "367/390 [===========================>..] - ETA: 0s - loss: 0.0027 - accuracy: 0.9992\n",
      "Epoch 99: saving model to model/keypoint_classifier\\keypoint_classifier.hdf5\n",
      "390/390 [==============================] - 0s 1ms/step - loss: 0.0027 - accuracy: 0.9992 - val_loss: 0.0209 - val_accuracy: 0.9984\n",
      "Epoch 100/1000\n",
      "371/390 [===========================>..] - ETA: 0s - loss: 0.0055 - accuracy: 0.9984\n",
      "Epoch 100: saving model to model/keypoint_classifier\\keypoint_classifier.hdf5\n",
      "390/390 [==============================] - 0s 1ms/step - loss: 0.0056 - accuracy: 0.9984 - val_loss: 0.0276 - val_accuracy: 0.9964\n",
      "Epoch 101/1000\n",
      "383/390 [============================>.] - ETA: 0s - loss: 0.0056 - accuracy: 0.9984\n",
      "Epoch 101: saving model to model/keypoint_classifier\\keypoint_classifier.hdf5\n",
      "390/390 [==============================] - 0s 1ms/step - loss: 0.0056 - accuracy: 0.9984 - val_loss: 0.0199 - val_accuracy: 0.9986\n",
      "Epoch 102/1000\n",
      "358/390 [==========================>...] - ETA: 0s - loss: 0.0015 - accuracy: 0.9995\n",
      "Epoch 102: saving model to model/keypoint_classifier\\keypoint_classifier.hdf5\n",
      "390/390 [==============================] - 0s 1ms/step - loss: 0.0017 - accuracy: 0.9995 - val_loss: 0.0229 - val_accuracy: 0.9980\n",
      "Epoch 102: early stopping\n"
     ]
    },
    {
     "data": {
      "text/plain": [
       "<keras.callbacks.History at 0x27f63f9ab50>"
      ]
     },
     "execution_count": 568,
     "metadata": {},
     "output_type": "execute_result"
    }
   ],
   "source": [
    "model.fit(\n",
    "    X_train,\n",
    "    y_train,\n",
    "    batch_size=128,\n",
    "    epochs=1000,\n",
    "    validation_data=(X_test, y_test),\n",
    "    callbacks=[cp_callback, es_callback],\n",
    ")"
   ]
  },
  {
   "cell_type": "code",
   "execution_count": 569,
   "metadata": {
    "colab": {
     "base_uri": "https://localhost:8080/"
    },
    "id": "pxvb2Y299hE3",
    "outputId": "59eb3185-2e37-4b9e-bc9d-ab1b8ac29b7f"
   },
   "outputs": [
    {
     "name": "stdout",
     "output_type": "stream",
     "text": [
      "69/69 [==============================] - 0s 631us/step - loss: 0.0229 - accuracy: 0.9980\n"
     ]
    }
   ],
   "source": [
    "# Model evaluation\n",
    "val_loss, val_acc = model.evaluate(X_test, y_test, batch_size=128)"
   ]
  },
  {
   "cell_type": "code",
   "execution_count": 570,
   "metadata": {
    "id": "RBkmDeUW9hE4"
   },
   "outputs": [],
   "source": [
    "# Loading the saved model\n",
    "model = tf.keras.models.load_model(model_save_path)"
   ]
  },
  {
   "cell_type": "code",
   "execution_count": 571,
   "metadata": {
    "colab": {
     "base_uri": "https://localhost:8080/"
    },
    "id": "tFz9Tb0I9hE4",
    "outputId": "1c3b3528-54ae-4ee2-ab04-77429211cbef"
   },
   "outputs": [
    {
     "name": "stdout",
     "output_type": "stream",
     "text": [
      "1/1 [==============================] - 0s 47ms/step\n",
      "[0.0000000e+00 0.0000000e+00 0.0000000e+00 0.0000000e+00 0.0000000e+00\n",
      " 0.0000000e+00 0.0000000e+00 0.0000000e+00 0.0000000e+00 1.7064762e-13\n",
      " 0.0000000e+00 0.0000000e+00 0.0000000e+00 2.2597197e-19 1.2912125e-36\n",
      " 7.7486872e-30 0.0000000e+00 0.0000000e+00 1.3868525e-17 0.0000000e+00\n",
      " 0.0000000e+00 0.0000000e+00 9.8297159e-26 0.0000000e+00 0.0000000e+00\n",
      " 0.0000000e+00 0.0000000e+00 0.0000000e+00 7.4631090e-14 1.5175516e-24\n",
      " 0.0000000e+00 1.0000000e+00 0.0000000e+00 3.9465074e-27 2.6247113e-20\n",
      " 0.0000000e+00 0.0000000e+00 0.0000000e+00 0.0000000e+00]\n",
      "31\n",
      "1.0\n"
     ]
    }
   ],
   "source": [
    "# Inference test\n",
    "predict_result = model.predict(np.array([X_test[0]]))\n",
    "print(np.squeeze(predict_result))\n",
    "print(np.argmax(np.squeeze(predict_result)))\n",
    "x = np.argmax(np.squeeze(predict_result))\n",
    "print(np.squeeze(predict_result)[x])"
   ]
  },
  {
   "cell_type": "markdown",
   "metadata": {
    "id": "S3U4yNWx9hE4"
   },
   "source": [
    "# Confusion matrix"
   ]
  },
  {
   "cell_type": "code",
   "execution_count": 572,
   "metadata": {
    "colab": {
     "base_uri": "https://localhost:8080/",
     "height": 582
    },
    "id": "AP1V6SCk9hE5",
    "outputId": "08e41a80-7a4a-4619-8125-ecc371368d19"
   },
   "outputs": [
    {
     "name": "stdout",
     "output_type": "stream",
     "text": [
      "275/275 [==============================] - 0s 561us/step\n"
     ]
    },
    {
     "data": {
      "image/png": "[encoded data removed]",
      "text/plain": [
       "<Figure size 700x600 with 2 Axes>"
      ]
     },
     "metadata": {},
     "output_type": "display_data"
    },
    {
     "name": "stdout",
     "output_type": "stream",
     "text": [
      "Classification Report\n",
      "              precision    recall  f1-score   support\n",
      "\n",
      "           0       0.00      0.00      0.00         0\n",
      "           1       0.00      0.00      0.00         2\n",
      "           2       0.99      1.00      0.99        81\n",
      "           3       0.99      1.00      1.00       101\n",
      "           4       1.00      1.00      1.00       103\n",
      "           5       1.00      1.00      1.00        74\n",
      "           6       1.00      1.00      1.00        92\n",
      "           7       0.98      1.00      0.99        91\n",
      "           8       1.00      1.00      1.00       123\n",
      "           9       1.00      0.99      0.99        81\n",
      "          10       1.00      1.00      1.00        89\n",
      "          11       0.98      1.00      0.99        92\n",
      "          12       0.99      1.00      1.00       318\n",
      "          13       1.00      0.99      1.00       391\n",
      "          14       1.00      1.00      1.00        61\n",
      "          15       1.00      0.99      0.99       293\n",
      "          16       0.99      1.00      0.99       343\n",
      "          17       1.00      1.00      1.00       270\n",
      "          18       1.00      1.00      1.00       490\n",
      "          19       1.00      1.00      1.00       476\n",
      "          20       1.00      1.00      1.00       445\n",
      "          21       1.00      1.00      1.00       221\n",
      "          22       1.00      1.00      1.00       126\n",
      "          23       1.00      1.00      1.00       116\n",
      "          24       1.00      1.00      1.00       748\n",
      "          25       1.00      1.00      1.00       677\n",
      "          27       1.00      1.00      1.00       140\n",
      "          28       1.00      0.99      1.00       276\n",
      "          29       1.00      1.00      1.00       152\n",
      "          30       1.00      1.00      1.00       162\n",
      "          31       1.00      1.00      1.00       442\n",
      "          32       1.00      1.00      1.00       386\n",
      "          33       1.00      0.99      1.00       131\n",
      "          34       1.00      0.99      0.99       144\n",
      "          35       1.00      1.00      1.00       471\n",
      "          36       1.00      1.00      1.00       263\n",
      "          37       1.00      1.00      1.00       146\n",
      "          38       1.00      0.99      0.99       177\n",
      "\n",
      "    accuracy                           1.00      8794\n",
      "   macro avg       0.94      0.95      0.95      8794\n",
      "weighted avg       1.00      1.00      1.00      8794\n",
      "\n"
     ]
    },
    {
     "name": "stderr",
     "output_type": "stream",
     "text": [
      "C:\\Users\\kaka1\\anaconda3\\envs\\project\\lib\\site-packages\\sklearn\\metrics\\_classification.py:1344: UndefinedMetricWarning: Precision and F-score are ill-defined and being set to 0.0 in labels with no predicted samples. Use `zero_division` parameter to control this behavior.\n",
      "  _warn_prf(average, modifier, msg_start, len(result))\n",
      "C:\\Users\\kaka1\\anaconda3\\envs\\project\\lib\\site-packages\\sklearn\\metrics\\_classification.py:1344: UndefinedMetricWarning: Recall and F-score are ill-defined and being set to 0.0 in labels with no true samples. Use `zero_division` parameter to control this behavior.\n",
      "  _warn_prf(average, modifier, msg_start, len(result))\n",
      "C:\\Users\\kaka1\\anaconda3\\envs\\project\\lib\\site-packages\\sklearn\\metrics\\_classification.py:1344: UndefinedMetricWarning: Precision and F-score are ill-defined and being set to 0.0 in labels with no predicted samples. Use `zero_division` parameter to control this behavior.\n",
      "  _warn_prf(average, modifier, msg_start, len(result))\n",
      "C:\\Users\\kaka1\\anaconda3\\envs\\project\\lib\\site-packages\\sklearn\\metrics\\_classification.py:1344: UndefinedMetricWarning: Recall and F-score are ill-defined and being set to 0.0 in labels with no true samples. Use `zero_division` parameter to control this behavior.\n",
      "  _warn_prf(average, modifier, msg_start, len(result))\n",
      "C:\\Users\\kaka1\\anaconda3\\envs\\project\\lib\\site-packages\\sklearn\\metrics\\_classification.py:1344: UndefinedMetricWarning: Precision and F-score are ill-defined and being set to 0.0 in labels with no predicted samples. Use `zero_division` parameter to control this behavior.\n",
      "  _warn_prf(average, modifier, msg_start, len(result))\n",
      "C:\\Users\\kaka1\\anaconda3\\envs\\project\\lib\\site-packages\\sklearn\\metrics\\_classification.py:1344: UndefinedMetricWarning: Recall and F-score are ill-defined and being set to 0.0 in labels with no true samples. Use `zero_division` parameter to control this behavior.\n",
      "  _warn_prf(average, modifier, msg_start, len(result))\n"
     ]
    }
   ],
   "source": [
    "import pandas as pd\n",
    "import seaborn as sns\n",
    "import matplotlib.pyplot as plt\n",
    "from sklearn.metrics import confusion_matrix, classification_report\n",
    "\n",
    "def print_confusion_matrix(y_true, y_pred, report=True):\n",
    "    labels = sorted(list(set(y_true)))\n",
    "    cmx_data = confusion_matrix(y_true, y_pred, labels=labels)\n",
    "    df_cmx = pd.DataFrame(cmx_data, index=labels, columns=labels)\n",
    "    fig, ax = plt.subplots(figsize=(7, 6))\n",
    "    sns.heatmap(df_cmx, annot=True, fmt='g' ,square=False)\n",
    "    ax.set_ylim(len(set(y_true)), 0)\n",
    "    plt.show()\n",
    "    \n",
    "    if report:\n",
    "        print('Classification Report')\n",
    "        print(classification_report(y_test, y_pred))\n",
    "\n",
    "Y_pred = model.predict(X_test)\n",
    "y_pred = np.argmax(Y_pred, axis=1)\n",
    "\n",
    "print_confusion_matrix(y_test, y_pred)"
   ]
  },
  {
   "cell_type": "markdown",
   "metadata": {
    "id": "FNP6aqzc9hE5"
   },
   "source": [
    "# Convert to model for Tensorflow-Lite"
   ]
  },
  {
   "cell_type": "code",
   "execution_count": 573,
   "metadata": {
    "id": "ODjnYyld9hE6"
   },
   "outputs": [],
   "source": [
    "# Save as a model dedicated to inference\n",
    "model.save(model_save_path, include_optimizer=False)"
   ]
  },
  {
   "cell_type": "code",
   "execution_count": 574,
   "metadata": {
    "colab": {
     "base_uri": "https://localhost:8080/"
    },
    "id": "zRfuK8Y59hE6",
    "outputId": "a4ca585c-b5d5-4244-8291-8674063209bb"
   },
   "outputs": [
    {
     "name": "stderr",
     "output_type": "stream",
     "text": [
      "WARNING:absl:Found untraced functions such as _update_step_xla while saving (showing 1 of 1). These functions will not be directly callable after loading.\n"
     ]
    },
    {
     "name": "stdout",
     "output_type": "stream",
     "text": [
      "INFO:tensorflow:Assets written to: C:\\Users\\kaka1\\AppData\\Local\\Temp\\tmpifa15f3r\\assets\n"
     ]
    },
    {
     "name": "stderr",
     "output_type": "stream",
     "text": [
      "INFO:tensorflow:Assets written to: C:\\Users\\kaka1\\AppData\\Local\\Temp\\tmpifa15f3r\\assets\n"
     ]
    },
    {
     "data": {
      "text/plain": [
       "16768"
      ]
     },
     "execution_count": 574,
     "metadata": {},
     "output_type": "execute_result"
    }
   ],
   "source": [
    "# Transform model (quantization)\n",
    "\n",
    "converter = tf.lite.TFLiteConverter.from_keras_model(model)\n",
    "converter.optimizations = [tf.lite.Optimize.DEFAULT]\n",
    "tflite_quantized_model = converter.convert()\n",
    "\n",
    "open(tflite_save_path, 'wb').write(tflite_quantized_model)"
   ]
  },
  {
   "cell_type": "markdown",
   "metadata": {
    "id": "CHBPBXdx9hE6"
   },
   "source": [
    "# Inference test"
   ]
  },
  {
   "cell_type": "code",
   "execution_count": 575,
   "metadata": {
    "id": "mGAzLocO9hE7"
   },
   "outputs": [],
   "source": [
    "interpreter = tf.lite.Interpreter(model_path=tflite_save_path)\n",
    "interpreter.allocate_tensors()"
   ]
  },
  {
   "cell_type": "code",
   "execution_count": 576,
   "metadata": {
    "id": "oQuDK8YS9hE7"
   },
   "outputs": [],
   "source": [
    "# Get I / O tensor\n",
    "input_details = interpreter.get_input_details()\n",
    "output_details = interpreter.get_output_details()"
   ]
  },
  {
   "cell_type": "code",
   "execution_count": 577,
   "metadata": {
    "id": "2_ixAf_l9hE7"
   },
   "outputs": [],
   "source": [
    "interpreter.set_tensor(input_details[0]['index'], np.array([X_test[0]]))"
   ]
  },
  {
   "cell_type": "code",
   "execution_count": 578,
   "metadata": {
    "colab": {
     "base_uri": "https://localhost:8080/"
    },
    "id": "s4FoAnuc9hE7",
    "outputId": "91f18257-8d8b-4ef3-c558-e9b5f94fabbf",
    "scrolled": true
   },
   "outputs": [
    {
     "name": "stdout",
     "output_type": "stream",
     "text": [
      "CPU times: total: 0 ns\n",
      "Wall time: 2 ms\n"
     ]
    }
   ],
   "source": [
    "%%time\n",
    "# Inference implementation\n",
    "interpreter.invoke()\n",
    "tflite_results = interpreter.get_tensor(output_details[0]['index'])"
   ]
  },
  {
   "cell_type": "code",
   "execution_count": 579,
   "metadata": {
    "colab": {
     "base_uri": "https://localhost:8080/"
    },
    "id": "vONjp19J9hE8",
    "outputId": "77205e24-fd00-42c4-f7b6-e06e527c2cba"
   },
   "outputs": [
    {
     "name": "stdout",
     "output_type": "stream",
     "text": [
      "[0.0000000e+00 0.0000000e+00 0.0000000e+00 0.0000000e+00 0.0000000e+00\n",
      " 0.0000000e+00 0.0000000e+00 0.0000000e+00 0.0000000e+00 1.1691040e-13\n",
      " 0.0000000e+00 0.0000000e+00 0.0000000e+00 2.4027534e-19 3.3559280e-36\n",
      " 1.3672923e-29 0.0000000e+00 0.0000000e+00 1.3043988e-17 0.0000000e+00\n",
      " 0.0000000e+00 0.0000000e+00 7.1577461e-26 0.0000000e+00 0.0000000e+00\n",
      " 0.0000000e+00 0.0000000e+00 0.0000000e+00 5.8529699e-14 9.8623597e-25\n",
      " 0.0000000e+00 1.0000000e+00 0.0000000e+00 2.3259870e-27 1.8774001e-20\n",
      " 0.0000000e+00 0.0000000e+00 0.0000000e+00 0.0000000e+00]\n",
      "31\n"
     ]
    }
   ],
   "source": [
    "print(np.squeeze(tflite_results))\n",
    "print(np.argmax(np.squeeze(tflite_results)))"
   ]
  },
  {
   "cell_type": "code",
   "execution_count": null,
   "metadata": {},
   "outputs": [],
   "source": []
  },
  {
   "cell_type": "code",
   "execution_count": null,
   "metadata": {},
   "outputs": [],
   "source": []
  },
  {
   "cell_type": "code",
   "execution_count": null,
   "metadata": {},
   "outputs": [],
   "source": []
  }
 ],
 "metadata": {
  "accelerator": "GPU",
  "colab": {
   "collapsed_sections": [],
   "name": "keypoint_classification_EN.ipynb",
   "provenance": [],
   "toc_visible": true
  },
  "kernelspec": {
   "display_name": "project",
   "language": "python",
   "name": "project"
  },
  "language_info": {
   "codemirror_mode": {
    "name": "ipython",
    "version": 3
   },
   "file_extension": ".py",
   "mimetype": "text/x-python",
   "name": "python",
   "nbconvert_exporter": "python",
   "pygments_lexer": "ipython3",
   "version": "3.9.16"
  }
 },
 "nbformat": 4,
 "nbformat_minor": 1
}
